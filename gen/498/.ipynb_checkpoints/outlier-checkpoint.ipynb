{
 "cells": [
  {
   "cell_type": "code",
   "execution_count": 45,
   "metadata": {
    "scrolled": true
   },
   "outputs": [],
   "source": [
    "import numpy as np\n",
    "\n",
    "import matplotlib.pyplot as plt\n",
    "import pandas as pd\n",
    "import warnings\n",
    "import seaborn as sns\n",
    "import pmdarima as pm\n",
    "from pmdarima.model_selection import train_test_split\n",
    "warnings.filterwarnings(\"ignore\")\n",
    "from statsmodels.tsa.arima_model import ARIMA"
   ]
  },
  {
   "cell_type": "code",
   "execution_count": 12,
   "metadata": {},
   "outputs": [],
   "source": [
    "sedan_1 = pd.read_excel('light-duty-emissions-time-series-data_v2.xlsx', '000001111')\n",
    "sedan_1 = sedan_1.dropna()"
   ]
  },
  {
   "cell_type": "code",
   "execution_count": 13,
   "metadata": {},
   "outputs": [],
   "source": [
    "def MAPE(y_orig, y_pred):\n",
    "    diff = y_orig - y_pred\n",
    "    MAPE = np.mean((abs(y_orig - y_pred)/y_orig)  * 100.)\n",
    "    return MAPE"
   ]
  },
  {
   "cell_type": "code",
   "execution_count": 17,
   "metadata": {},
   "outputs": [],
   "source": [
    "X = sedan_1.drop(columns=['VS_km/h','Lam','Texh_C','VA','NOx_raw']).set_index('Time_s')"
   ]
  },
  {
   "cell_type": "code",
   "execution_count": 23,
   "metadata": {},
   "outputs": [],
   "source": [
    "train, test = train_test_split(X, train_size=0.85)\n",
    "model = pm.auto_arima(train, max_p=15, max_q=15, seasonal=False, n_jobs=-1)\n",
    "\n",
    "forecasts = model.predict(test.shape[0])  # predict N steps into the future\n",
    "mape = MAPE(test.values.reshape(1,-1)[0], forecasts)"
   ]
  },
  {
   "cell_type": "code",
   "execution_count": 46,
   "metadata": {},
   "outputs": [
    {
     "data": {
      "text/plain": [
       "ARIMA(order=(1, 1, 3), scoring_args={})"
      ]
     },
     "execution_count": 46,
     "metadata": {},
     "output_type": "execute_result"
    }
   ],
   "source": [
    "model"
   ]
  },
  {
   "cell_type": "code",
   "execution_count": 40,
   "metadata": {},
   "outputs": [
    {
     "data": {
      "text/plain": [
       "2349"
      ]
     },
     "execution_count": 40,
     "metadata": {},
     "output_type": "execute_result"
    }
   ],
   "source": [
    "X.shape[0]"
   ]
  },
  {
   "cell_type": "code",
   "execution_count": 44,
   "metadata": {},
   "outputs": [
    {
     "data": {
      "text/plain": [
       "<matplotlib.legend.Legend at 0x7f7cc4180550>"
      ]
     },
     "execution_count": 44,
     "metadata": {},
     "output_type": "execute_result"
    },
    {
     "data": {
      "image/png": "[encoded data removed]",
      "text/plain": [
       "<Figure size 432x288 with 1 Axes>"
      ]
     },
     "metadata": {},
     "output_type": "display_data"
    }
   ],
   "source": [
    "plt.plot(X.index.values,X,label='true')\n",
    "plt.plot(X.index.values, model.predict(X.shape[0]),label='forecasted')\n",
    "plt.legend()"
   ]
  },
  {
   "cell_type": "code",
   "execution_count": 58,
   "metadata": {},
   "outputs": [],
   "source": [
    "train_size = int(len(X) * 0.66)\n",
    "train, test = X[0:train_size], X[train_size:]\n",
    "history = [x for x in train]\n",
    "# make predictions\n",
    "# predictions = list()\n",
    "# for t in range(len(test)):\n",
    "#     model = ARIMA(history, order=arima_order)\n",
    "#     model_fit = model.fit(disp=0)\n",
    "#     yhat = model_fit.forecast()[0]\n",
    "#     predictions.append(yhat)\n",
    "#     history.append(test[t])"
   ]
  },
  {
   "cell_type": "code",
   "execution_count": 61,
   "metadata": {},
   "outputs": [
    {
     "data": {
      "text/html": [
       "<div>\n",
       "<style scoped>\n",
       "    .dataframe tbody tr th:only-of-type {\n",
       "        vertical-align: middle;\n",
       "    }\n",
       "\n",
       "    .dataframe tbody tr th {\n",
       "        vertical-align: top;\n",
       "    }\n",
       "\n",
       "    .dataframe thead th {\n",
       "        text-align: right;\n",
       "    }\n",
       "</style>\n",
       "<table border=\"1\" class=\"dataframe\">\n",
       "  <thead>\n",
       "    <tr style=\"text-align: right;\">\n",
       "      <th></th>\n",
       "      <th>NOx_ppm</th>\n",
       "    </tr>\n",
       "    <tr>\n",
       "      <th>Time_s</th>\n",
       "      <th></th>\n",
       "    </tr>\n",
       "  </thead>\n",
       "  <tbody>\n",
       "    <tr>\n",
       "      <th>1.0</th>\n",
       "      <td>255.941618</td>\n",
       "    </tr>\n",
       "    <tr>\n",
       "      <th>2.0</th>\n",
       "      <td>383.448691</td>\n",
       "    </tr>\n",
       "    <tr>\n",
       "      <th>3.0</th>\n",
       "      <td>331.868438</td>\n",
       "    </tr>\n",
       "    <tr>\n",
       "      <th>4.0</th>\n",
       "      <td>257.317183</td>\n",
       "    </tr>\n",
       "    <tr>\n",
       "      <th>5.0</th>\n",
       "      <td>213.250542</td>\n",
       "    </tr>\n",
       "    <tr>\n",
       "      <th>...</th>\n",
       "      <td>...</td>\n",
       "    </tr>\n",
       "    <tr>\n",
       "      <th>1546.0</th>\n",
       "      <td>46.524977</td>\n",
       "    </tr>\n",
       "    <tr>\n",
       "      <th>1547.0</th>\n",
       "      <td>30.203934</td>\n",
       "    </tr>\n",
       "    <tr>\n",
       "      <th>1548.0</th>\n",
       "      <td>21.750756</td>\n",
       "    </tr>\n",
       "    <tr>\n",
       "      <th>1549.0</th>\n",
       "      <td>16.696305</td>\n",
       "    </tr>\n",
       "    <tr>\n",
       "      <th>1550.0</th>\n",
       "      <td>14.193107</td>\n",
       "    </tr>\n",
       "  </tbody>\n",
       "</table>\n",
       "<p>1550 rows × 1 columns</p>\n",
       "</div>"
      ],
      "text/plain": [
       "           NOx_ppm\n",
       "Time_s            \n",
       "1.0     255.941618\n",
       "2.0     383.448691\n",
       "3.0     331.868438\n",
       "4.0     257.317183\n",
       "5.0     213.250542\n",
       "...            ...\n",
       "1546.0   46.524977\n",
       "1547.0   30.203934\n",
       "1548.0   21.750756\n",
       "1549.0   16.696305\n",
       "1550.0   14.193107\n",
       "\n",
       "[1550 rows x 1 columns]"
      ]
     },
     "execution_count": 61,
     "metadata": {},
     "output_type": "execute_result"
    }
   ],
   "source": [
    "train"
   ]
  },
  {
   "cell_type": "code",
   "execution_count": null,
   "metadata": {},
   "outputs": [],
   "source": []
  }
 ],
 "metadata": {
  "kernelspec": {
   "display_name": "Python 3",
   "language": "python",
   "name": "python3"
  },
  "language_info": {
   "codemirror_mode": {
    "name": "ipython",
    "version": 3
   },
   "file_extension": ".py",
   "mimetype": "text/x-python",
   "name": "python",
   "nbconvert_exporter": "python",
   "pygments_lexer": "ipython3",
   "version": "3.7.6"
  }
 },
 "nbformat": 4,
 "nbformat_minor": 4
}

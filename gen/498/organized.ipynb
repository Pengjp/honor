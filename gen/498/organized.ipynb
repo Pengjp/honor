{
 "cells": [
  {
   "cell_type": "markdown",
   "metadata": {},
   "source": [
    "EECS 498 group 1 winter 2020 <br>\n",
    "University of Michigan"
   ]
  },
  {
   "cell_type": "code",
   "execution_count": 1,
   "metadata": {},
   "outputs": [],
   "source": [
    "import pandas as pd\n",
    "import seaborn as sn\n",
    "from matplotlib import pyplot as plt\n",
    "import numpy as np"
   ]
  },
  {
   "cell_type": "code",
   "execution_count": 2,
   "metadata": {},
   "outputs": [],
   "source": [
    "df = pd.read_excel('light-duty-vehicle-test-results-report-2014-present.xlsx', header=1)"
   ]
  },
  {
   "cell_type": "code",
   "execution_count": 3,
   "metadata": {
    "scrolled": false
   },
   "outputs": [
    {
     "data": {
      "text/html": [
       "<div>\n",
       "<style scoped>\n",
       "    .dataframe tbody tr th:only-of-type {\n",
       "        vertical-align: middle;\n",
       "    }\n",
       "\n",
       "    .dataframe tbody tr th {\n",
       "        vertical-align: top;\n",
       "    }\n",
       "\n",
       "    .dataframe thead th {\n",
       "        text-align: right;\n",
       "    }\n",
       "</style>\n",
       "<table border=\"1\" class=\"dataframe\">\n",
       "  <thead>\n",
       "    <tr style=\"text-align: right;\">\n",
       "      <th></th>\n",
       "      <th>Model Year</th>\n",
       "      <th>Vehicle Configuration Number</th>\n",
       "      <th>Displacement (L)</th>\n",
       "      <th>Curb Weight (lbs.)</th>\n",
       "      <th>Gross Vehicle Weight Rating (lbs.)</th>\n",
       "      <th>Equivalent Test Weight (lbs.)</th>\n",
       "      <th>Number of Gears</th>\n",
       "      <th>Set Coefficient A (lbf)</th>\n",
       "      <th>Set Coefficient B (lbf/mph)</th>\n",
       "      <th>Set Coefficient C (lbf/mph**2)</th>\n",
       "      <th>...</th>\n",
       "      <th>Useful Life Miles (k)</th>\n",
       "      <th>Rounded Emission Result (g/mi)</th>\n",
       "      <th>Certification Level (g/mi)</th>\n",
       "      <th>Emission Standard (g/mi)</th>\n",
       "      <th>Additive Deterioration Factor</th>\n",
       "      <th>Multiplicative Deterioration Factor</th>\n",
       "      <th>Ratio of NMOG to NMHC</th>\n",
       "      <th>Upward Diesel Adjustment Factor</th>\n",
       "      <th>Downward Diesel Adjustment Factor</th>\n",
       "      <th>Reactivity Factor (RAF)</th>\n",
       "    </tr>\n",
       "  </thead>\n",
       "  <tbody>\n",
       "    <tr>\n",
       "      <th>count</th>\n",
       "      <td>208859.000000</td>\n",
       "      <td>208859.000000</td>\n",
       "      <td>208859.000000</td>\n",
       "      <td>208859.000000</td>\n",
       "      <td>159926.000000</td>\n",
       "      <td>208859.000000</td>\n",
       "      <td>208859.000000</td>\n",
       "      <td>208859.000000</td>\n",
       "      <td>208859.000000</td>\n",
       "      <td>208859.000000</td>\n",
       "      <td>...</td>\n",
       "      <td>208859.000000</td>\n",
       "      <td>208856.000000</td>\n",
       "      <td>208856.000000</td>\n",
       "      <td>208859.000000</td>\n",
       "      <td>155585.000000</td>\n",
       "      <td>45336.000000</td>\n",
       "      <td>36104.000000</td>\n",
       "      <td>9377.000000</td>\n",
       "      <td>9377.000000</td>\n",
       "      <td>38769.000000</td>\n",
       "    </tr>\n",
       "    <tr>\n",
       "      <th>mean</th>\n",
       "      <td>2017.645517</td>\n",
       "      <td>0.511024</td>\n",
       "      <td>3.351740</td>\n",
       "      <td>4662.253300</td>\n",
       "      <td>6255.255037</td>\n",
       "      <td>5106.813544</td>\n",
       "      <td>6.460210</td>\n",
       "      <td>16.542423</td>\n",
       "      <td>0.175403</td>\n",
       "      <td>0.031097</td>\n",
       "      <td>...</td>\n",
       "      <td>113.303214</td>\n",
       "      <td>61.133632</td>\n",
       "      <td>61.211083</td>\n",
       "      <td>237.415672</td>\n",
       "      <td>0.079564</td>\n",
       "      <td>1.024767</td>\n",
       "      <td>0.971961</td>\n",
       "      <td>0.015867</td>\n",
       "      <td>-0.025278</td>\n",
       "      <td>0.934948</td>\n",
       "    </tr>\n",
       "    <tr>\n",
       "      <th>std</th>\n",
       "      <td>1.994162</td>\n",
       "      <td>1.126776</td>\n",
       "      <td>2.459996</td>\n",
       "      <td>1695.113744</td>\n",
       "      <td>2239.491438</td>\n",
       "      <td>1989.225263</td>\n",
       "      <td>2.143188</td>\n",
       "      <td>15.425029</td>\n",
       "      <td>0.320516</td>\n",
       "      <td>0.037292</td>\n",
       "      <td>...</td>\n",
       "      <td>51.088266</td>\n",
       "      <td>420.678555</td>\n",
       "      <td>420.742119</td>\n",
       "      <td>403.453624</td>\n",
       "      <td>0.390256</td>\n",
       "      <td>0.131524</td>\n",
       "      <td>0.290410</td>\n",
       "      <td>0.327101</td>\n",
       "      <td>0.183065</td>\n",
       "      <td>0.246621</td>\n",
       "    </tr>\n",
       "    <tr>\n",
       "      <th>min</th>\n",
       "      <td>2014.000000</td>\n",
       "      <td>0.000000</td>\n",
       "      <td>0.001000</td>\n",
       "      <td>0.000000</td>\n",
       "      <td>2125.000000</td>\n",
       "      <td>2125.000000</td>\n",
       "      <td>1.000000</td>\n",
       "      <td>-94.900000</td>\n",
       "      <td>-2.962000</td>\n",
       "      <td>-0.005240</td>\n",
       "      <td>...</td>\n",
       "      <td>4.000000</td>\n",
       "      <td>0.000000</td>\n",
       "      <td>-0.010000</td>\n",
       "      <td>0.000000</td>\n",
       "      <td>0.000000</td>\n",
       "      <td>1.000000</td>\n",
       "      <td>0.000000</td>\n",
       "      <td>-0.010000</td>\n",
       "      <td>-2.396800</td>\n",
       "      <td>0.000000</td>\n",
       "    </tr>\n",
       "    <tr>\n",
       "      <th>25%</th>\n",
       "      <td>2016.000000</td>\n",
       "      <td>0.000000</td>\n",
       "      <td>2.000000</td>\n",
       "      <td>3610.000000</td>\n",
       "      <td>4760.000000</td>\n",
       "      <td>3875.000000</td>\n",
       "      <td>6.000000</td>\n",
       "      <td>7.850000</td>\n",
       "      <td>0.003700</td>\n",
       "      <td>0.019030</td>\n",
       "      <td>...</td>\n",
       "      <td>120.000000</td>\n",
       "      <td>0.005000</td>\n",
       "      <td>0.010000</td>\n",
       "      <td>0.090000</td>\n",
       "      <td>0.000000</td>\n",
       "      <td>1.000000</td>\n",
       "      <td>1.030000</td>\n",
       "      <td>0.000000</td>\n",
       "      <td>0.000000</td>\n",
       "      <td>1.000000</td>\n",
       "    </tr>\n",
       "    <tr>\n",
       "      <th>50%</th>\n",
       "      <td>2018.000000</td>\n",
       "      <td>0.000000</td>\n",
       "      <td>3.000000</td>\n",
       "      <td>4260.000000</td>\n",
       "      <td>5645.000000</td>\n",
       "      <td>4500.000000</td>\n",
       "      <td>6.000000</td>\n",
       "      <td>15.370000</td>\n",
       "      <td>0.140530</td>\n",
       "      <td>0.023390</td>\n",
       "      <td>...</td>\n",
       "      <td>120.000000</td>\n",
       "      <td>0.021700</td>\n",
       "      <td>0.030000</td>\n",
       "      <td>4.200000</td>\n",
       "      <td>0.003400</td>\n",
       "      <td>1.000000</td>\n",
       "      <td>1.040000</td>\n",
       "      <td>0.000000</td>\n",
       "      <td>0.000000</td>\n",
       "      <td>1.000000</td>\n",
       "    </tr>\n",
       "    <tr>\n",
       "      <th>75%</th>\n",
       "      <td>2019.000000</td>\n",
       "      <td>1.000000</td>\n",
       "      <td>3.993000</td>\n",
       "      <td>5128.000000</td>\n",
       "      <td>6990.000000</td>\n",
       "      <td>5500.000000</td>\n",
       "      <td>8.000000</td>\n",
       "      <td>24.223000</td>\n",
       "      <td>0.315510</td>\n",
       "      <td>0.030031</td>\n",
       "      <td>...</td>\n",
       "      <td>150.000000</td>\n",
       "      <td>0.283600</td>\n",
       "      <td>0.400000</td>\n",
       "      <td>99.999000</td>\n",
       "      <td>0.020000</td>\n",
       "      <td>1.000000</td>\n",
       "      <td>1.100000</td>\n",
       "      <td>0.001700</td>\n",
       "      <td>0.000000</td>\n",
       "      <td>1.000000</td>\n",
       "    </tr>\n",
       "    <tr>\n",
       "      <th>max</th>\n",
       "      <td>2021.000000</td>\n",
       "      <td>10.000000</td>\n",
       "      <td>99.999000</td>\n",
       "      <td>12500.000000</td>\n",
       "      <td>14000.000000</td>\n",
       "      <td>13000.000000</td>\n",
       "      <td>10.000000</td>\n",
       "      <td>207.700000</td>\n",
       "      <td>2.595500</td>\n",
       "      <td>1.000000</td>\n",
       "      <td>...</td>\n",
       "      <td>150.000000</td>\n",
       "      <td>9999.000000</td>\n",
       "      <td>9999.000000</td>\n",
       "      <td>999.999900</td>\n",
       "      <td>9.999900</td>\n",
       "      <td>3.076000</td>\n",
       "      <td>1.540000</td>\n",
       "      <td>8.500000</td>\n",
       "      <td>2.200000</td>\n",
       "      <td>1.000000</td>\n",
       "    </tr>\n",
       "  </tbody>\n",
       "</table>\n",
       "<p>8 rows × 25 columns</p>\n",
       "</div>"
      ],
      "text/plain": [
       "          Model Year  Vehicle Configuration Number  Displacement (L)  \\\n",
       "count  208859.000000                 208859.000000     208859.000000   \n",
       "mean     2017.645517                      0.511024          3.351740   \n",
       "std         1.994162                      1.126776          2.459996   \n",
       "min      2014.000000                      0.000000          0.001000   \n",
       "25%      2016.000000                      0.000000          2.000000   \n",
       "50%      2018.000000                      0.000000          3.000000   \n",
       "75%      2019.000000                      1.000000          3.993000   \n",
       "max      2021.000000                     10.000000         99.999000   \n",
       "\n",
       "       Curb Weight (lbs.)  Gross Vehicle Weight Rating (lbs.)  \\\n",
       "count       208859.000000                       159926.000000   \n",
       "mean          4662.253300                         6255.255037   \n",
       "std           1695.113744                         2239.491438   \n",
       "min              0.000000                         2125.000000   \n",
       "25%           3610.000000                         4760.000000   \n",
       "50%           4260.000000                         5645.000000   \n",
       "75%           5128.000000                         6990.000000   \n",
       "max          12500.000000                        14000.000000   \n",
       "\n",
       "       Equivalent Test Weight (lbs.)  Number of Gears  \\\n",
       "count                  208859.000000    208859.000000   \n",
       "mean                     5106.813544         6.460210   \n",
       "std                      1989.225263         2.143188   \n",
       "min                      2125.000000         1.000000   \n",
       "25%                      3875.000000         6.000000   \n",
       "50%                      4500.000000         6.000000   \n",
       "75%                      5500.000000         8.000000   \n",
       "max                     13000.000000        10.000000   \n",
       "\n",
       "       Set Coefficient A (lbf)  Set Coefficient B (lbf/mph)  \\\n",
       "count            208859.000000                208859.000000   \n",
       "mean                 16.542423                     0.175403   \n",
       "std                  15.425029                     0.320516   \n",
       "min                 -94.900000                    -2.962000   \n",
       "25%                   7.850000                     0.003700   \n",
       "50%                  15.370000                     0.140530   \n",
       "75%                  24.223000                     0.315510   \n",
       "max                 207.700000                     2.595500   \n",
       "\n",
       "       Set Coefficient C (lbf/mph**2)  ...  Useful Life Miles (k)  \\\n",
       "count                   208859.000000  ...          208859.000000   \n",
       "mean                         0.031097  ...             113.303214   \n",
       "std                          0.037292  ...              51.088266   \n",
       "min                         -0.005240  ...               4.000000   \n",
       "25%                          0.019030  ...             120.000000   \n",
       "50%                          0.023390  ...             120.000000   \n",
       "75%                          0.030031  ...             150.000000   \n",
       "max                          1.000000  ...             150.000000   \n",
       "\n",
       "       Rounded Emission Result (g/mi)  Certification Level (g/mi)  \\\n",
       "count                   208856.000000               208856.000000   \n",
       "mean                        61.133632                   61.211083   \n",
       "std                        420.678555                  420.742119   \n",
       "min                          0.000000                   -0.010000   \n",
       "25%                          0.005000                    0.010000   \n",
       "50%                          0.021700                    0.030000   \n",
       "75%                          0.283600                    0.400000   \n",
       "max                       9999.000000                 9999.000000   \n",
       "\n",
       "       Emission Standard (g/mi)  Additive Deterioration Factor  \\\n",
       "count             208859.000000                  155585.000000   \n",
       "mean                 237.415672                       0.079564   \n",
       "std                  403.453624                       0.390256   \n",
       "min                    0.000000                       0.000000   \n",
       "25%                    0.090000                       0.000000   \n",
       "50%                    4.200000                       0.003400   \n",
       "75%                   99.999000                       0.020000   \n",
       "max                  999.999900                       9.999900   \n",
       "\n",
       "       Multiplicative Deterioration Factor  Ratio of NMOG to NMHC  \\\n",
       "count                         45336.000000           36104.000000   \n",
       "mean                              1.024767               0.971961   \n",
       "std                               0.131524               0.290410   \n",
       "min                               1.000000               0.000000   \n",
       "25%                               1.000000               1.030000   \n",
       "50%                               1.000000               1.040000   \n",
       "75%                               1.000000               1.100000   \n",
       "max                               3.076000               1.540000   \n",
       "\n",
       "       Upward Diesel Adjustment Factor  Downward Diesel Adjustment Factor  \\\n",
       "count                      9377.000000                        9377.000000   \n",
       "mean                          0.015867                          -0.025278   \n",
       "std                           0.327101                           0.183065   \n",
       "min                          -0.010000                          -2.396800   \n",
       "25%                           0.000000                           0.000000   \n",
       "50%                           0.000000                           0.000000   \n",
       "75%                           0.001700                           0.000000   \n",
       "max                           8.500000                           2.200000   \n",
       "\n",
       "       Reactivity Factor (RAF)  \n",
       "count             38769.000000  \n",
       "mean                  0.934948  \n",
       "std                   0.246621  \n",
       "min                   0.000000  \n",
       "25%                   1.000000  \n",
       "50%                   1.000000  \n",
       "75%                   1.000000  \n",
       "max                   1.000000  \n",
       "\n",
       "[8 rows x 25 columns]"
      ]
     },
     "execution_count": 3,
     "metadata": {},
     "output_type": "execute_result"
    }
   ],
   "source": [
    "df.describe()"
   ]
  },
  {
   "cell_type": "code",
   "execution_count": 12,
   "metadata": {
    "scrolled": true
   },
   "outputs": [
    {
     "name": "stdout",
     "output_type": "stream",
     "text": [
      "<class 'pandas.core.frame.DataFrame'>\n",
      "RangeIndex: 208859 entries, 0 to 208858\n",
      "Data columns (total 55 columns):\n",
      " #   Column                               Non-Null Count   Dtype  \n",
      "---  ------                               --------------   -----  \n",
      " 0   Model Year                           208859 non-null  int64  \n",
      " 1   Certificate Manufacturer Name        208859 non-null  object \n",
      " 2   Certified Test Group                 208859 non-null  object \n",
      " 3   Certified Evaporative Family         201370 non-null  object \n",
      " 4   Represented Test Vehicle Make        208859 non-null  object \n",
      " 5   Represented Test Vehicle Model       208859 non-null  object \n",
      " 6   Vehicle ID                           208859 non-null  object \n",
      " 7   Vehicle Configuration Number         208859 non-null  int64  \n",
      " 8   Displacement (L)                     208859 non-null  float64\n",
      " 9   Curb Weight (lbs.)                   208859 non-null  int64  \n",
      " 10  Gross Vehicle Weight Rating (lbs.)   159926 non-null  float64\n",
      " 11  Equivalent Test Weight (lbs.)        208859 non-null  int64  \n",
      " 12  Test Drive                           208859 non-null  object \n",
      " 13  Test Drive Description               208859 non-null  object \n",
      " 14  Transmission Type                    208859 non-null  object \n",
      " 15  Transmission Type Description        208859 non-null  object \n",
      " 16  Transmission type, if other          3009 non-null    object \n",
      " 17  Number of Gears                      208859 non-null  int64  \n",
      " 18  Transmission Lockup Yes/No?          208859 non-null  object \n",
      " 19  Creeper Gear Yes/No?                 208859 non-null  object \n",
      " 20  Vehicle Fuel Category                7200 non-null    object \n",
      " 21  Vehicle Fuel Category Description    7200 non-null    object \n",
      " 22  Hybrid Yes/No?                       208859 non-null  object \n",
      " 23  Set Coefficient A (lbf)              208859 non-null  float64\n",
      " 24  Set Coefficient B (lbf/mph)          208859 non-null  float64\n",
      " 25  Set Coefficient C (lbf/mph**2)       208859 non-null  float64\n",
      " 26  Target Coefficient A (lbf)           208859 non-null  float64\n",
      " 27  Target Coefficient B (lbf/mph)       208859 non-null  float64\n",
      " 28  Target Coefficient C (lbf/mph**2)    208859 non-null  float64\n",
      " 29  Test Number                          208859 non-null  object \n",
      " 30  Test Originator                      208859 non-null  object \n",
      " 31  Test Procedure                       208859 non-null  int64  \n",
      " 32  Test Procedure Description           208859 non-null  object \n",
      " 33  Test Fuel                            208859 non-null  int64  \n",
      " 34  Test Fuel Description                208859 non-null  object \n",
      " 35  Certification/In-Use Code            208859 non-null  object \n",
      " 36  Vehicle Class                        208859 non-null  object \n",
      " 37  Vehicle Class Description            208859 non-null  object \n",
      " 38  Certification Region                 208859 non-null  object \n",
      " 39  Certification Region Description     208859 non-null  object \n",
      " 40  Emission Standard Level Code         208859 non-null  object \n",
      " 41  Emission Standard Level Description  208859 non-null  object \n",
      " 42  Useful Life Miles (k)                208859 non-null  int64  \n",
      " 43  Emission Name                        208859 non-null  object \n",
      " 44  Rounded Emission Result (g/mi)       208856 non-null  float64\n",
      " 45  Certification Level (g/mi)           208856 non-null  float64\n",
      " 46  Emission Standard (g/mi)             208859 non-null  float64\n",
      " 47  Additive Deterioration Factor        155585 non-null  float64\n",
      " 48  Multiplicative Deterioration Factor  45336 non-null   float64\n",
      " 49  Using NMOG/NMHC Ratio?               115334 non-null  object \n",
      " 50  Ratio of NMOG to NMHC                36104 non-null   float64\n",
      " 51  Upward Diesel Adjustment Factor      9377 non-null    float64\n",
      " 52  Downward Diesel Adjustment Factor    9377 non-null    float64\n",
      " 53  Reactivity Factor (RAF)              38769 non-null   float64\n",
      " 54  Carline Models Covered               208859 non-null  object \n",
      "dtypes: float64(17), int64(8), object(30)\n",
      "memory usage: 87.6+ MB\n"
     ]
    }
   ],
   "source": [
    "df.info()"
   ]
  },
  {
   "cell_type": "code",
   "execution_count": 38,
   "metadata": {},
   "outputs": [
    {
     "data": {
      "text/plain": [
       "LDV/Passenger Car                                    123022\n",
       "LDT2 (LVW 3751-5750, GVW 0-6000)                      24865\n",
       "LDT3 (ALVW 3751-5750, LVW 0-3750, GVW > 6000)         19359\n",
       "LDT4 (ALVW > 5750, LVW 0-3750, GVW > 6000)            11773\n",
       "HDV1 (Federal HD chassis Class 2b GVW 8501-10000)      7640\n",
       "LDT1 (LVW-3750, GVW 0-6000)                            7239\n",
       "HDV2 (Federal HD chassis Class 3 GVW 10001-14000)      5254\n",
       "MDV6 (Cal. LEV 2/3 MDV GVW 8501-10000)                 4818\n",
       "MDV7 (Cal. LEV 2/3 MDV GVW 10001-14000)                2751\n",
       "MDPV (Federal Tier 2, GVWR 8501-10000)                 2138\n",
       "Name: Vehicle Class Description, dtype: int64"
      ]
     },
     "execution_count": 38,
     "metadata": {},
     "output_type": "execute_result"
    }
   ],
   "source": [
    "df['Vehicle Class Description'].value_counts()"
   ]
  },
  {
   "cell_type": "code",
   "execution_count": 41,
   "metadata": {},
   "outputs": [
    {
     "data": {
      "text/plain": [
       "Vehicle ID         Vehicle Class Description       \n",
       "000416             LDV/Passenger Car                    10\n",
       "001HFV5002         LDV/Passenger Car                    12\n",
       "004002             LDV/Passenger Car                     8\n",
       "0050N002EA         LDV/Passenger Car                     4\n",
       "00MBEV4012         LDV/Passenger Car                    12\n",
       "                                                      ... \n",
       "YP5L3U03AC         LDT2 (LVW 3751-5750, GVW 0-6000)    148\n",
       "YP9L3AU05AC        LDT2 (LVW 3751-5750, GVW 0-6000)    246\n",
       "Z5023              LDV/Passenger Car                    62\n",
       "ZAMJK39A690027157  LDV/Passenger Car                   207\n",
       "one77              LDV/Passenger Car                     8\n",
       "Length: 2088, dtype: int64"
      ]
     },
     "execution_count": 41,
     "metadata": {},
     "output_type": "execute_result"
    }
   ],
   "source": [
    "df.groupby(['Vehicle ID','Vehicle Class Description']).size()"
   ]
  },
  {
   "cell_type": "code",
   "execution_count": 46,
   "metadata": {},
   "outputs": [],
   "source": [
    "data = df[df['Vehicle ID'] == 'LE67191'][['Model Year','Vehicle ID','Test Number','Test Drive Description','Set Coefficient A (lbf)','Test Originator','Test Procedure Description','Test Fuel Description','Target Coefficient A (lbf)','Rounded Emission Result (g/mi)','Emission Name']]"
   ]
  },
  {
   "cell_type": "code",
   "execution_count": 42,
   "metadata": {},
   "outputs": [
    {
     "data": {
      "text/html": [
       "<div>\n",
       "<style scoped>\n",
       "    .dataframe tbody tr th:only-of-type {\n",
       "        vertical-align: middle;\n",
       "    }\n",
       "\n",
       "    .dataframe tbody tr th {\n",
       "        vertical-align: top;\n",
       "    }\n",
       "\n",
       "    .dataframe thead th {\n",
       "        text-align: right;\n",
       "    }\n",
       "</style>\n",
       "<table border=\"1\" class=\"dataframe\">\n",
       "  <thead>\n",
       "    <tr style=\"text-align: right;\">\n",
       "      <th></th>\n",
       "      <th>Vehicle ID</th>\n",
       "      <th>Test Number</th>\n",
       "      <th>Test Drive Description</th>\n",
       "      <th>Set Coefficient A (lbf)</th>\n",
       "      <th>Test Originator</th>\n",
       "      <th>Test Procedure Description</th>\n",
       "      <th>Test Fuel Description</th>\n",
       "      <th>Target Coefficient A (lbf)</th>\n",
       "      <th>Rounded Emission Result (g/mi)</th>\n",
       "      <th>Emission Name</th>\n",
       "    </tr>\n",
       "  </thead>\n",
       "  <tbody>\n",
       "    <tr>\n",
       "      <th>160993</th>\n",
       "      <td>000416</td>\n",
       "      <td>GJ3X10044504</td>\n",
       "      <td>2-Wheel Drive, Rear</td>\n",
       "      <td>29.65</td>\n",
       "      <td>MFR</td>\n",
       "      <td>Federal fuel 2-day exhaust (w/can load)</td>\n",
       "      <td>Tier 2 Cert Gasoline</td>\n",
       "      <td>51.53</td>\n",
       "      <td>0.590</td>\n",
       "      <td>CO</td>\n",
       "    </tr>\n",
       "    <tr>\n",
       "      <th>160994</th>\n",
       "      <td>000416</td>\n",
       "      <td>GJ3X10044504</td>\n",
       "      <td>2-Wheel Drive, Rear</td>\n",
       "      <td>29.65</td>\n",
       "      <td>MFR</td>\n",
       "      <td>Federal fuel 2-day exhaust (w/can load)</td>\n",
       "      <td>Tier 2 Cert Gasoline</td>\n",
       "      <td>51.53</td>\n",
       "      <td>0.004</td>\n",
       "      <td>HCHO</td>\n",
       "    </tr>\n",
       "    <tr>\n",
       "      <th>160995</th>\n",
       "      <td>000416</td>\n",
       "      <td>GJ3X10044504</td>\n",
       "      <td>2-Wheel Drive, Rear</td>\n",
       "      <td>29.65</td>\n",
       "      <td>MFR</td>\n",
       "      <td>Federal fuel 2-day exhaust (w/can load)</td>\n",
       "      <td>Tier 2 Cert Gasoline</td>\n",
       "      <td>51.53</td>\n",
       "      <td>0.051</td>\n",
       "      <td>NMOG</td>\n",
       "    </tr>\n",
       "    <tr>\n",
       "      <th>160996</th>\n",
       "      <td>000416</td>\n",
       "      <td>GJ3X10044504</td>\n",
       "      <td>2-Wheel Drive, Rear</td>\n",
       "      <td>29.65</td>\n",
       "      <td>MFR</td>\n",
       "      <td>Federal fuel 2-day exhaust (w/can load)</td>\n",
       "      <td>Tier 2 Cert Gasoline</td>\n",
       "      <td>51.53</td>\n",
       "      <td>0.026</td>\n",
       "      <td>NOX</td>\n",
       "    </tr>\n",
       "    <tr>\n",
       "      <th>160997</th>\n",
       "      <td>000416</td>\n",
       "      <td>GJ3X10044504</td>\n",
       "      <td>2-Wheel Drive, Rear</td>\n",
       "      <td>29.65</td>\n",
       "      <td>MFR</td>\n",
       "      <td>Federal fuel 2-day exhaust (w/can load)</td>\n",
       "      <td>Tier 2 Cert Gasoline</td>\n",
       "      <td>51.53</td>\n",
       "      <td>0.590</td>\n",
       "      <td>CO</td>\n",
       "    </tr>\n",
       "    <tr>\n",
       "      <th>160998</th>\n",
       "      <td>000416</td>\n",
       "      <td>GJ3X10044504</td>\n",
       "      <td>2-Wheel Drive, Rear</td>\n",
       "      <td>29.65</td>\n",
       "      <td>MFR</td>\n",
       "      <td>Federal fuel 2-day exhaust (w/can load)</td>\n",
       "      <td>Tier 2 Cert Gasoline</td>\n",
       "      <td>51.53</td>\n",
       "      <td>0.004</td>\n",
       "      <td>HCHO</td>\n",
       "    </tr>\n",
       "    <tr>\n",
       "      <th>160999</th>\n",
       "      <td>000416</td>\n",
       "      <td>GJ3X10044504</td>\n",
       "      <td>2-Wheel Drive, Rear</td>\n",
       "      <td>29.65</td>\n",
       "      <td>MFR</td>\n",
       "      <td>Federal fuel 2-day exhaust (w/can load)</td>\n",
       "      <td>Tier 2 Cert Gasoline</td>\n",
       "      <td>51.53</td>\n",
       "      <td>0.051</td>\n",
       "      <td>NMOG</td>\n",
       "    </tr>\n",
       "    <tr>\n",
       "      <th>161000</th>\n",
       "      <td>000416</td>\n",
       "      <td>GJ3X10044504</td>\n",
       "      <td>2-Wheel Drive, Rear</td>\n",
       "      <td>29.65</td>\n",
       "      <td>MFR</td>\n",
       "      <td>Federal fuel 2-day exhaust (w/can load)</td>\n",
       "      <td>Tier 2 Cert Gasoline</td>\n",
       "      <td>51.53</td>\n",
       "      <td>0.026</td>\n",
       "      <td>NOX</td>\n",
       "    </tr>\n",
       "    <tr>\n",
       "      <th>161001</th>\n",
       "      <td>000416</td>\n",
       "      <td>GJ3X10044506</td>\n",
       "      <td>2-Wheel Drive, Rear</td>\n",
       "      <td>29.65</td>\n",
       "      <td>MFR</td>\n",
       "      <td>HWFE</td>\n",
       "      <td>Tier 2 Cert Gasoline</td>\n",
       "      <td>51.53</td>\n",
       "      <td>0.048</td>\n",
       "      <td>NOX</td>\n",
       "    </tr>\n",
       "    <tr>\n",
       "      <th>161002</th>\n",
       "      <td>000416</td>\n",
       "      <td>GJ3X10044506</td>\n",
       "      <td>2-Wheel Drive, Rear</td>\n",
       "      <td>29.65</td>\n",
       "      <td>MFR</td>\n",
       "      <td>HWFE</td>\n",
       "      <td>Tier 2 Cert Gasoline</td>\n",
       "      <td>51.53</td>\n",
       "      <td>0.048</td>\n",
       "      <td>NOX</td>\n",
       "    </tr>\n",
       "  </tbody>\n",
       "</table>\n",
       "</div>"
      ],
      "text/plain": [
       "       Vehicle ID   Test Number Test Drive Description  \\\n",
       "160993     000416  GJ3X10044504    2-Wheel Drive, Rear   \n",
       "160994     000416  GJ3X10044504    2-Wheel Drive, Rear   \n",
       "160995     000416  GJ3X10044504    2-Wheel Drive, Rear   \n",
       "160996     000416  GJ3X10044504    2-Wheel Drive, Rear   \n",
       "160997     000416  GJ3X10044504    2-Wheel Drive, Rear   \n",
       "160998     000416  GJ3X10044504    2-Wheel Drive, Rear   \n",
       "160999     000416  GJ3X10044504    2-Wheel Drive, Rear   \n",
       "161000     000416  GJ3X10044504    2-Wheel Drive, Rear   \n",
       "161001     000416  GJ3X10044506    2-Wheel Drive, Rear   \n",
       "161002     000416  GJ3X10044506    2-Wheel Drive, Rear   \n",
       "\n",
       "        Set Coefficient A (lbf) Test Originator  \\\n",
       "160993                    29.65             MFR   \n",
       "160994                    29.65             MFR   \n",
       "160995                    29.65             MFR   \n",
       "160996                    29.65             MFR   \n",
       "160997                    29.65             MFR   \n",
       "160998                    29.65             MFR   \n",
       "160999                    29.65             MFR   \n",
       "161000                    29.65             MFR   \n",
       "161001                    29.65             MFR   \n",
       "161002                    29.65             MFR   \n",
       "\n",
       "                     Test Procedure Description Test Fuel Description  \\\n",
       "160993  Federal fuel 2-day exhaust (w/can load)  Tier 2 Cert Gasoline   \n",
       "160994  Federal fuel 2-day exhaust (w/can load)  Tier 2 Cert Gasoline   \n",
       "160995  Federal fuel 2-day exhaust (w/can load)  Tier 2 Cert Gasoline   \n",
       "160996  Federal fuel 2-day exhaust (w/can load)  Tier 2 Cert Gasoline   \n",
       "160997  Federal fuel 2-day exhaust (w/can load)  Tier 2 Cert Gasoline   \n",
       "160998  Federal fuel 2-day exhaust (w/can load)  Tier 2 Cert Gasoline   \n",
       "160999  Federal fuel 2-day exhaust (w/can load)  Tier 2 Cert Gasoline   \n",
       "161000  Federal fuel 2-day exhaust (w/can load)  Tier 2 Cert Gasoline   \n",
       "161001                                     HWFE  Tier 2 Cert Gasoline   \n",
       "161002                                     HWFE  Tier 2 Cert Gasoline   \n",
       "\n",
       "        Target Coefficient A (lbf)  Rounded Emission Result (g/mi)  \\\n",
       "160993                       51.53                           0.590   \n",
       "160994                       51.53                           0.004   \n",
       "160995                       51.53                           0.051   \n",
       "160996                       51.53                           0.026   \n",
       "160997                       51.53                           0.590   \n",
       "160998                       51.53                           0.004   \n",
       "160999                       51.53                           0.051   \n",
       "161000                       51.53                           0.026   \n",
       "161001                       51.53                           0.048   \n",
       "161002                       51.53                           0.048   \n",
       "\n",
       "       Emission Name  \n",
       "160993            CO  \n",
       "160994          HCHO  \n",
       "160995          NMOG  \n",
       "160996           NOX  \n",
       "160997            CO  \n",
       "160998          HCHO  \n",
       "160999          NMOG  \n",
       "161000           NOX  \n",
       "161001           NOX  \n",
       "161002           NOX  "
      ]
     },
     "execution_count": 42,
     "metadata": {},
     "output_type": "execute_result"
    }
   ],
   "source": [
    "df[df['Vehicle ID'] == '000416'][['Vehicle ID','Test Number','Test Drive Description','Set Coefficient A (lbf)','Test Originator','Test Procedure Description','Test Fuel Description','Target Coefficient A (lbf)','Rounded Emission Result (g/mi)','Emission Name']]"
   ]
  },
  {
   "cell_type": "code",
   "execution_count": 47,
   "metadata": {
    "scrolled": false
   },
   "outputs": [
    {
     "data": {
      "text/html": [
       "<div>\n",
       "<style scoped>\n",
       "    .dataframe tbody tr th:only-of-type {\n",
       "        vertical-align: middle;\n",
       "    }\n",
       "\n",
       "    .dataframe tbody tr th {\n",
       "        vertical-align: top;\n",
       "    }\n",
       "\n",
       "    .dataframe thead th {\n",
       "        text-align: right;\n",
       "    }\n",
       "</style>\n",
       "<table border=\"1\" class=\"dataframe\">\n",
       "  <thead>\n",
       "    <tr style=\"text-align: right;\">\n",
       "      <th></th>\n",
       "      <th>Model Year</th>\n",
       "      <th>Vehicle ID</th>\n",
       "      <th>Test Number</th>\n",
       "      <th>Test Drive Description</th>\n",
       "      <th>Set Coefficient A (lbf)</th>\n",
       "      <th>Test Originator</th>\n",
       "      <th>Test Procedure Description</th>\n",
       "      <th>Test Fuel Description</th>\n",
       "      <th>Target Coefficient A (lbf)</th>\n",
       "      <th>Rounded Emission Result (g/mi)</th>\n",
       "      <th>Emission Name</th>\n",
       "    </tr>\n",
       "  </thead>\n",
       "  <tbody>\n",
       "    <tr>\n",
       "      <th>0</th>\n",
       "      <td>2021</td>\n",
       "      <td>LE67191</td>\n",
       "      <td>LBMX10058491</td>\n",
       "      <td>All Wheel Drive</td>\n",
       "      <td>14.8</td>\n",
       "      <td>MFR</td>\n",
       "      <td>Federal fuel 3-day exhaust</td>\n",
       "      <td>Tier 3 E10 Regular Gasoline (9 RVP @Low Alt.)</td>\n",
       "      <td>61.5</td>\n",
       "      <td>0.1500</td>\n",
       "      <td>CO</td>\n",
       "    </tr>\n",
       "    <tr>\n",
       "      <th>1</th>\n",
       "      <td>2021</td>\n",
       "      <td>LE67191</td>\n",
       "      <td>LBMX10058491</td>\n",
       "      <td>All Wheel Drive</td>\n",
       "      <td>14.8</td>\n",
       "      <td>MFR</td>\n",
       "      <td>Federal fuel 3-day exhaust</td>\n",
       "      <td>Tier 3 E10 Regular Gasoline (9 RVP @Low Alt.)</td>\n",
       "      <td>61.5</td>\n",
       "      <td>0.0047</td>\n",
       "      <td>NMOG</td>\n",
       "    </tr>\n",
       "    <tr>\n",
       "      <th>2</th>\n",
       "      <td>2021</td>\n",
       "      <td>LE67191</td>\n",
       "      <td>LBMX10058491</td>\n",
       "      <td>All Wheel Drive</td>\n",
       "      <td>14.8</td>\n",
       "      <td>MFR</td>\n",
       "      <td>Federal fuel 3-day exhaust</td>\n",
       "      <td>Tier 3 E10 Regular Gasoline (9 RVP @Low Alt.)</td>\n",
       "      <td>61.5</td>\n",
       "      <td>0.0157</td>\n",
       "      <td>NMOG+NOX</td>\n",
       "    </tr>\n",
       "    <tr>\n",
       "      <th>3</th>\n",
       "      <td>2021</td>\n",
       "      <td>LE67191</td>\n",
       "      <td>LBMX10058491</td>\n",
       "      <td>All Wheel Drive</td>\n",
       "      <td>14.8</td>\n",
       "      <td>MFR</td>\n",
       "      <td>Federal fuel 3-day exhaust</td>\n",
       "      <td>Tier 3 E10 Regular Gasoline (9 RVP @Low Alt.)</td>\n",
       "      <td>61.5</td>\n",
       "      <td>0.0110</td>\n",
       "      <td>NOX</td>\n",
       "    </tr>\n",
       "    <tr>\n",
       "      <th>4</th>\n",
       "      <td>2021</td>\n",
       "      <td>LE67191</td>\n",
       "      <td>LBMX10058491</td>\n",
       "      <td>All Wheel Drive</td>\n",
       "      <td>14.8</td>\n",
       "      <td>MFR</td>\n",
       "      <td>Federal fuel 3-day exhaust</td>\n",
       "      <td>Tier 3 E10 Regular Gasoline (9 RVP @Low Alt.)</td>\n",
       "      <td>61.5</td>\n",
       "      <td>0.0002</td>\n",
       "      <td>PM</td>\n",
       "    </tr>\n",
       "    <tr>\n",
       "      <th>...</th>\n",
       "      <td>...</td>\n",
       "      <td>...</td>\n",
       "      <td>...</td>\n",
       "      <td>...</td>\n",
       "      <td>...</td>\n",
       "      <td>...</td>\n",
       "      <td>...</td>\n",
       "      <td>...</td>\n",
       "      <td>...</td>\n",
       "      <td>...</td>\n",
       "      <td>...</td>\n",
       "    </tr>\n",
       "    <tr>\n",
       "      <th>9671</th>\n",
       "      <td>2020</td>\n",
       "      <td>LE67191</td>\n",
       "      <td>LBMX91004359</td>\n",
       "      <td>All Wheel Drive</td>\n",
       "      <td>16.7</td>\n",
       "      <td>EPA</td>\n",
       "      <td>Federal fuel 2-day exhaust (w/can load)</td>\n",
       "      <td>Tier 2 Cert Gasoline</td>\n",
       "      <td>61.5</td>\n",
       "      <td>0.4600</td>\n",
       "      <td>CO</td>\n",
       "    </tr>\n",
       "    <tr>\n",
       "      <th>9672</th>\n",
       "      <td>2020</td>\n",
       "      <td>LE67191</td>\n",
       "      <td>LBMX91004359</td>\n",
       "      <td>All Wheel Drive</td>\n",
       "      <td>16.7</td>\n",
       "      <td>EPA</td>\n",
       "      <td>Federal fuel 2-day exhaust (w/can load)</td>\n",
       "      <td>Tier 2 Cert Gasoline</td>\n",
       "      <td>61.5</td>\n",
       "      <td>0.0063</td>\n",
       "      <td>NMOG</td>\n",
       "    </tr>\n",
       "    <tr>\n",
       "      <th>9673</th>\n",
       "      <td>2020</td>\n",
       "      <td>LE67191</td>\n",
       "      <td>LBMX91004359</td>\n",
       "      <td>All Wheel Drive</td>\n",
       "      <td>16.7</td>\n",
       "      <td>EPA</td>\n",
       "      <td>Federal fuel 2-day exhaust (w/can load)</td>\n",
       "      <td>Tier 2 Cert Gasoline</td>\n",
       "      <td>61.5</td>\n",
       "      <td>0.0108</td>\n",
       "      <td>NMOG+NOX</td>\n",
       "    </tr>\n",
       "    <tr>\n",
       "      <th>9674</th>\n",
       "      <td>2020</td>\n",
       "      <td>LE67191</td>\n",
       "      <td>LBMX91004359</td>\n",
       "      <td>All Wheel Drive</td>\n",
       "      <td>16.7</td>\n",
       "      <td>EPA</td>\n",
       "      <td>Federal fuel 2-day exhaust (w/can load)</td>\n",
       "      <td>Tier 2 Cert Gasoline</td>\n",
       "      <td>61.5</td>\n",
       "      <td>0.0045</td>\n",
       "      <td>NOX</td>\n",
       "    </tr>\n",
       "    <tr>\n",
       "      <th>9675</th>\n",
       "      <td>2020</td>\n",
       "      <td>LE67191</td>\n",
       "      <td>LBMX91004359</td>\n",
       "      <td>All Wheel Drive</td>\n",
       "      <td>16.7</td>\n",
       "      <td>EPA</td>\n",
       "      <td>Federal fuel 2-day exhaust (w/can load)</td>\n",
       "      <td>Tier 2 Cert Gasoline</td>\n",
       "      <td>61.5</td>\n",
       "      <td>0.0001</td>\n",
       "      <td>PM</td>\n",
       "    </tr>\n",
       "  </tbody>\n",
       "</table>\n",
       "<p>234 rows × 11 columns</p>\n",
       "</div>"
      ],
      "text/plain": [
       "      Model Year Vehicle ID   Test Number Test Drive Description  \\\n",
       "0           2021    LE67191  LBMX10058491        All Wheel Drive   \n",
       "1           2021    LE67191  LBMX10058491        All Wheel Drive   \n",
       "2           2021    LE67191  LBMX10058491        All Wheel Drive   \n",
       "3           2021    LE67191  LBMX10058491        All Wheel Drive   \n",
       "4           2021    LE67191  LBMX10058491        All Wheel Drive   \n",
       "...          ...        ...           ...                    ...   \n",
       "9671        2020    LE67191  LBMX91004359        All Wheel Drive   \n",
       "9672        2020    LE67191  LBMX91004359        All Wheel Drive   \n",
       "9673        2020    LE67191  LBMX91004359        All Wheel Drive   \n",
       "9674        2020    LE67191  LBMX91004359        All Wheel Drive   \n",
       "9675        2020    LE67191  LBMX91004359        All Wheel Drive   \n",
       "\n",
       "      Set Coefficient A (lbf) Test Originator  \\\n",
       "0                        14.8             MFR   \n",
       "1                        14.8             MFR   \n",
       "2                        14.8             MFR   \n",
       "3                        14.8             MFR   \n",
       "4                        14.8             MFR   \n",
       "...                       ...             ...   \n",
       "9671                     16.7             EPA   \n",
       "9672                     16.7             EPA   \n",
       "9673                     16.7             EPA   \n",
       "9674                     16.7             EPA   \n",
       "9675                     16.7             EPA   \n",
       "\n",
       "                   Test Procedure Description  \\\n",
       "0                  Federal fuel 3-day exhaust   \n",
       "1                  Federal fuel 3-day exhaust   \n",
       "2                  Federal fuel 3-day exhaust   \n",
       "3                  Federal fuel 3-day exhaust   \n",
       "4                  Federal fuel 3-day exhaust   \n",
       "...                                       ...   \n",
       "9671  Federal fuel 2-day exhaust (w/can load)   \n",
       "9672  Federal fuel 2-day exhaust (w/can load)   \n",
       "9673  Federal fuel 2-day exhaust (w/can load)   \n",
       "9674  Federal fuel 2-day exhaust (w/can load)   \n",
       "9675  Federal fuel 2-day exhaust (w/can load)   \n",
       "\n",
       "                              Test Fuel Description  \\\n",
       "0     Tier 3 E10 Regular Gasoline (9 RVP @Low Alt.)   \n",
       "1     Tier 3 E10 Regular Gasoline (9 RVP @Low Alt.)   \n",
       "2     Tier 3 E10 Regular Gasoline (9 RVP @Low Alt.)   \n",
       "3     Tier 3 E10 Regular Gasoline (9 RVP @Low Alt.)   \n",
       "4     Tier 3 E10 Regular Gasoline (9 RVP @Low Alt.)   \n",
       "...                                             ...   \n",
       "9671                           Tier 2 Cert Gasoline   \n",
       "9672                           Tier 2 Cert Gasoline   \n",
       "9673                           Tier 2 Cert Gasoline   \n",
       "9674                           Tier 2 Cert Gasoline   \n",
       "9675                           Tier 2 Cert Gasoline   \n",
       "\n",
       "      Target Coefficient A (lbf)  Rounded Emission Result (g/mi) Emission Name  \n",
       "0                           61.5                          0.1500            CO  \n",
       "1                           61.5                          0.0047          NMOG  \n",
       "2                           61.5                          0.0157      NMOG+NOX  \n",
       "3                           61.5                          0.0110           NOX  \n",
       "4                           61.5                          0.0002            PM  \n",
       "...                          ...                             ...           ...  \n",
       "9671                        61.5                          0.4600            CO  \n",
       "9672                        61.5                          0.0063          NMOG  \n",
       "9673                        61.5                          0.0108      NMOG+NOX  \n",
       "9674                        61.5                          0.0045           NOX  \n",
       "9675                        61.5                          0.0001            PM  \n",
       "\n",
       "[234 rows x 11 columns]"
      ]
     },
     "execution_count": 47,
     "metadata": {},
     "output_type": "execute_result"
    }
   ],
   "source": [
    "data"
   ]
  },
  {
   "cell_type": "code",
   "execution_count": 31,
   "metadata": {},
   "outputs": [
    {
     "data": {
      "text/plain": [
       "MFR    169\n",
       "EPA     65\n",
       "Name: Test Originator, dtype: int64"
      ]
     },
     "execution_count": 31,
     "metadata": {},
     "output_type": "execute_result"
    }
   ],
   "source": [
    "data['Test Originator'].value_counts()"
   ]
  },
  {
   "cell_type": "code",
   "execution_count": 32,
   "metadata": {},
   "outputs": [
    {
     "data": {
      "text/plain": [
       "14.8    154\n",
       "16.7     65\n",
       "0.2      15\n",
       "Name: Set Coefficient A (lbf), dtype: int64"
      ]
     },
     "execution_count": 32,
     "metadata": {},
     "output_type": "execute_result"
    }
   ],
   "source": [
    "data['Set Coefficient A (lbf)'].value_counts()"
   ]
  },
  {
   "cell_type": "code",
   "execution_count": 48,
   "metadata": {},
   "outputs": [
    {
     "data": {
      "text/html": [
       "<div>\n",
       "<style scoped>\n",
       "    .dataframe tbody tr th:only-of-type {\n",
       "        vertical-align: middle;\n",
       "    }\n",
       "\n",
       "    .dataframe tbody tr th {\n",
       "        vertical-align: top;\n",
       "    }\n",
       "\n",
       "    .dataframe thead th {\n",
       "        text-align: right;\n",
       "    }\n",
       "</style>\n",
       "<table border=\"1\" class=\"dataframe\">\n",
       "  <thead>\n",
       "    <tr style=\"text-align: right;\">\n",
       "      <th></th>\n",
       "      <th>Model Year</th>\n",
       "      <th>Vehicle ID</th>\n",
       "      <th>Test Number</th>\n",
       "      <th>Test Drive Description</th>\n",
       "      <th>Set Coefficient A (lbf)</th>\n",
       "      <th>Test Originator</th>\n",
       "      <th>Test Procedure Description</th>\n",
       "      <th>Test Fuel Description</th>\n",
       "      <th>Target Coefficient A (lbf)</th>\n",
       "      <th>Rounded Emission Result (g/mi)</th>\n",
       "      <th>Emission Name</th>\n",
       "    </tr>\n",
       "  </thead>\n",
       "  <tbody>\n",
       "    <tr>\n",
       "      <th>38</th>\n",
       "      <td>2021</td>\n",
       "      <td>LE67191</td>\n",
       "      <td>LBMX10058496</td>\n",
       "      <td>All Wheel Drive</td>\n",
       "      <td>0.2</td>\n",
       "      <td>MFR</td>\n",
       "      <td>Cold CO</td>\n",
       "      <td>Cold CO E10 Regular Gasoline (Tier 3)</td>\n",
       "      <td>68.4</td>\n",
       "      <td>0.19</td>\n",
       "      <td>CO</td>\n",
       "    </tr>\n",
       "    <tr>\n",
       "      <th>39</th>\n",
       "      <td>2021</td>\n",
       "      <td>LE67191</td>\n",
       "      <td>LBMX10058496</td>\n",
       "      <td>All Wheel Drive</td>\n",
       "      <td>0.2</td>\n",
       "      <td>MFR</td>\n",
       "      <td>Cold CO</td>\n",
       "      <td>Cold CO E10 Regular Gasoline (Tier 3)</td>\n",
       "      <td>68.4</td>\n",
       "      <td>0.00</td>\n",
       "      <td>HC-NM</td>\n",
       "    </tr>\n",
       "    <tr>\n",
       "      <th>40</th>\n",
       "      <td>2021</td>\n",
       "      <td>LE67191</td>\n",
       "      <td>LBMX10058496</td>\n",
       "      <td>All Wheel Drive</td>\n",
       "      <td>0.2</td>\n",
       "      <td>MFR</td>\n",
       "      <td>Cold CO</td>\n",
       "      <td>Cold CO E10 Regular Gasoline (Tier 3)</td>\n",
       "      <td>68.4</td>\n",
       "      <td>0.19</td>\n",
       "      <td>CO</td>\n",
       "    </tr>\n",
       "    <tr>\n",
       "      <th>92</th>\n",
       "      <td>2021</td>\n",
       "      <td>LE67191</td>\n",
       "      <td>LBMX10058496</td>\n",
       "      <td>All Wheel Drive</td>\n",
       "      <td>0.2</td>\n",
       "      <td>MFR</td>\n",
       "      <td>Cold CO</td>\n",
       "      <td>Cold CO E10 Regular Gasoline (Tier 3)</td>\n",
       "      <td>68.4</td>\n",
       "      <td>0.19</td>\n",
       "      <td>CO</td>\n",
       "    </tr>\n",
       "    <tr>\n",
       "      <th>93</th>\n",
       "      <td>2021</td>\n",
       "      <td>LE67191</td>\n",
       "      <td>LBMX10058496</td>\n",
       "      <td>All Wheel Drive</td>\n",
       "      <td>0.2</td>\n",
       "      <td>MFR</td>\n",
       "      <td>Cold CO</td>\n",
       "      <td>Cold CO E10 Regular Gasoline (Tier 3)</td>\n",
       "      <td>68.4</td>\n",
       "      <td>0.00</td>\n",
       "      <td>HC-NM</td>\n",
       "    </tr>\n",
       "    <tr>\n",
       "      <th>94</th>\n",
       "      <td>2021</td>\n",
       "      <td>LE67191</td>\n",
       "      <td>LBMX10058496</td>\n",
       "      <td>All Wheel Drive</td>\n",
       "      <td>0.2</td>\n",
       "      <td>MFR</td>\n",
       "      <td>Cold CO</td>\n",
       "      <td>Cold CO E10 Regular Gasoline (Tier 3)</td>\n",
       "      <td>68.4</td>\n",
       "      <td>0.19</td>\n",
       "      <td>CO</td>\n",
       "    </tr>\n",
       "    <tr>\n",
       "      <th>9576</th>\n",
       "      <td>2020</td>\n",
       "      <td>LE67191</td>\n",
       "      <td>LBMX10058496</td>\n",
       "      <td>All Wheel Drive</td>\n",
       "      <td>0.2</td>\n",
       "      <td>MFR</td>\n",
       "      <td>Cold CO</td>\n",
       "      <td>Cold CO E10 Regular Gasoline (Tier 3)</td>\n",
       "      <td>68.4</td>\n",
       "      <td>0.19</td>\n",
       "      <td>CO</td>\n",
       "    </tr>\n",
       "    <tr>\n",
       "      <th>9577</th>\n",
       "      <td>2020</td>\n",
       "      <td>LE67191</td>\n",
       "      <td>LBMX10058496</td>\n",
       "      <td>All Wheel Drive</td>\n",
       "      <td>0.2</td>\n",
       "      <td>MFR</td>\n",
       "      <td>Cold CO</td>\n",
       "      <td>Cold CO E10 Regular Gasoline (Tier 3)</td>\n",
       "      <td>68.4</td>\n",
       "      <td>0.00</td>\n",
       "      <td>HC-NM</td>\n",
       "    </tr>\n",
       "    <tr>\n",
       "      <th>9578</th>\n",
       "      <td>2020</td>\n",
       "      <td>LE67191</td>\n",
       "      <td>LBMX10058496</td>\n",
       "      <td>All Wheel Drive</td>\n",
       "      <td>0.2</td>\n",
       "      <td>MFR</td>\n",
       "      <td>Cold CO</td>\n",
       "      <td>Cold CO E10 Regular Gasoline (Tier 3)</td>\n",
       "      <td>68.4</td>\n",
       "      <td>0.19</td>\n",
       "      <td>CO</td>\n",
       "    </tr>\n",
       "    <tr>\n",
       "      <th>9618</th>\n",
       "      <td>2020</td>\n",
       "      <td>LE67191</td>\n",
       "      <td>LBMX10058496</td>\n",
       "      <td>All Wheel Drive</td>\n",
       "      <td>0.2</td>\n",
       "      <td>MFR</td>\n",
       "      <td>Cold CO</td>\n",
       "      <td>Cold CO E10 Regular Gasoline (Tier 3)</td>\n",
       "      <td>68.4</td>\n",
       "      <td>0.19</td>\n",
       "      <td>CO</td>\n",
       "    </tr>\n",
       "    <tr>\n",
       "      <th>9619</th>\n",
       "      <td>2020</td>\n",
       "      <td>LE67191</td>\n",
       "      <td>LBMX10058496</td>\n",
       "      <td>All Wheel Drive</td>\n",
       "      <td>0.2</td>\n",
       "      <td>MFR</td>\n",
       "      <td>Cold CO</td>\n",
       "      <td>Cold CO E10 Regular Gasoline (Tier 3)</td>\n",
       "      <td>68.4</td>\n",
       "      <td>0.00</td>\n",
       "      <td>HC-NM</td>\n",
       "    </tr>\n",
       "    <tr>\n",
       "      <th>9620</th>\n",
       "      <td>2020</td>\n",
       "      <td>LE67191</td>\n",
       "      <td>LBMX10058496</td>\n",
       "      <td>All Wheel Drive</td>\n",
       "      <td>0.2</td>\n",
       "      <td>MFR</td>\n",
       "      <td>Cold CO</td>\n",
       "      <td>Cold CO E10 Regular Gasoline (Tier 3)</td>\n",
       "      <td>68.4</td>\n",
       "      <td>0.19</td>\n",
       "      <td>CO</td>\n",
       "    </tr>\n",
       "    <tr>\n",
       "      <th>9660</th>\n",
       "      <td>2020</td>\n",
       "      <td>LE67191</td>\n",
       "      <td>LBMX10058496</td>\n",
       "      <td>All Wheel Drive</td>\n",
       "      <td>0.2</td>\n",
       "      <td>MFR</td>\n",
       "      <td>Cold CO</td>\n",
       "      <td>Cold CO E10 Regular Gasoline (Tier 3)</td>\n",
       "      <td>68.4</td>\n",
       "      <td>0.19</td>\n",
       "      <td>CO</td>\n",
       "    </tr>\n",
       "    <tr>\n",
       "      <th>9661</th>\n",
       "      <td>2020</td>\n",
       "      <td>LE67191</td>\n",
       "      <td>LBMX10058496</td>\n",
       "      <td>All Wheel Drive</td>\n",
       "      <td>0.2</td>\n",
       "      <td>MFR</td>\n",
       "      <td>Cold CO</td>\n",
       "      <td>Cold CO E10 Regular Gasoline (Tier 3)</td>\n",
       "      <td>68.4</td>\n",
       "      <td>0.00</td>\n",
       "      <td>HC-NM</td>\n",
       "    </tr>\n",
       "    <tr>\n",
       "      <th>9662</th>\n",
       "      <td>2020</td>\n",
       "      <td>LE67191</td>\n",
       "      <td>LBMX10058496</td>\n",
       "      <td>All Wheel Drive</td>\n",
       "      <td>0.2</td>\n",
       "      <td>MFR</td>\n",
       "      <td>Cold CO</td>\n",
       "      <td>Cold CO E10 Regular Gasoline (Tier 3)</td>\n",
       "      <td>68.4</td>\n",
       "      <td>0.19</td>\n",
       "      <td>CO</td>\n",
       "    </tr>\n",
       "  </tbody>\n",
       "</table>\n",
       "</div>"
      ],
      "text/plain": [
       "      Model Year Vehicle ID   Test Number Test Drive Description  \\\n",
       "38          2021    LE67191  LBMX10058496        All Wheel Drive   \n",
       "39          2021    LE67191  LBMX10058496        All Wheel Drive   \n",
       "40          2021    LE67191  LBMX10058496        All Wheel Drive   \n",
       "92          2021    LE67191  LBMX10058496        All Wheel Drive   \n",
       "93          2021    LE67191  LBMX10058496        All Wheel Drive   \n",
       "94          2021    LE67191  LBMX10058496        All Wheel Drive   \n",
       "9576        2020    LE67191  LBMX10058496        All Wheel Drive   \n",
       "9577        2020    LE67191  LBMX10058496        All Wheel Drive   \n",
       "9578        2020    LE67191  LBMX10058496        All Wheel Drive   \n",
       "9618        2020    LE67191  LBMX10058496        All Wheel Drive   \n",
       "9619        2020    LE67191  LBMX10058496        All Wheel Drive   \n",
       "9620        2020    LE67191  LBMX10058496        All Wheel Drive   \n",
       "9660        2020    LE67191  LBMX10058496        All Wheel Drive   \n",
       "9661        2020    LE67191  LBMX10058496        All Wheel Drive   \n",
       "9662        2020    LE67191  LBMX10058496        All Wheel Drive   \n",
       "\n",
       "      Set Coefficient A (lbf) Test Originator Test Procedure Description  \\\n",
       "38                        0.2             MFR                    Cold CO   \n",
       "39                        0.2             MFR                    Cold CO   \n",
       "40                        0.2             MFR                    Cold CO   \n",
       "92                        0.2             MFR                    Cold CO   \n",
       "93                        0.2             MFR                    Cold CO   \n",
       "94                        0.2             MFR                    Cold CO   \n",
       "9576                      0.2             MFR                    Cold CO   \n",
       "9577                      0.2             MFR                    Cold CO   \n",
       "9578                      0.2             MFR                    Cold CO   \n",
       "9618                      0.2             MFR                    Cold CO   \n",
       "9619                      0.2             MFR                    Cold CO   \n",
       "9620                      0.2             MFR                    Cold CO   \n",
       "9660                      0.2             MFR                    Cold CO   \n",
       "9661                      0.2             MFR                    Cold CO   \n",
       "9662                      0.2             MFR                    Cold CO   \n",
       "\n",
       "                      Test Fuel Description  Target Coefficient A (lbf)  \\\n",
       "38    Cold CO E10 Regular Gasoline (Tier 3)                        68.4   \n",
       "39    Cold CO E10 Regular Gasoline (Tier 3)                        68.4   \n",
       "40    Cold CO E10 Regular Gasoline (Tier 3)                        68.4   \n",
       "92    Cold CO E10 Regular Gasoline (Tier 3)                        68.4   \n",
       "93    Cold CO E10 Regular Gasoline (Tier 3)                        68.4   \n",
       "94    Cold CO E10 Regular Gasoline (Tier 3)                        68.4   \n",
       "9576  Cold CO E10 Regular Gasoline (Tier 3)                        68.4   \n",
       "9577  Cold CO E10 Regular Gasoline (Tier 3)                        68.4   \n",
       "9578  Cold CO E10 Regular Gasoline (Tier 3)                        68.4   \n",
       "9618  Cold CO E10 Regular Gasoline (Tier 3)                        68.4   \n",
       "9619  Cold CO E10 Regular Gasoline (Tier 3)                        68.4   \n",
       "9620  Cold CO E10 Regular Gasoline (Tier 3)                        68.4   \n",
       "9660  Cold CO E10 Regular Gasoline (Tier 3)                        68.4   \n",
       "9661  Cold CO E10 Regular Gasoline (Tier 3)                        68.4   \n",
       "9662  Cold CO E10 Regular Gasoline (Tier 3)                        68.4   \n",
       "\n",
       "      Rounded Emission Result (g/mi) Emission Name  \n",
       "38                              0.19            CO  \n",
       "39                              0.00         HC-NM  \n",
       "40                              0.19            CO  \n",
       "92                              0.19            CO  \n",
       "93                              0.00         HC-NM  \n",
       "94                              0.19            CO  \n",
       "9576                            0.19            CO  \n",
       "9577                            0.00         HC-NM  \n",
       "9578                            0.19            CO  \n",
       "9618                            0.19            CO  \n",
       "9619                            0.00         HC-NM  \n",
       "9620                            0.19            CO  \n",
       "9660                            0.19            CO  \n",
       "9661                            0.00         HC-NM  \n",
       "9662                            0.19            CO  "
      ]
     },
     "execution_count": 48,
     "metadata": {},
     "output_type": "execute_result"
    }
   ],
   "source": [
    "data[data['Set Coefficient A (lbf)']==0.2]"
   ]
  },
  {
   "cell_type": "code",
   "execution_count": 33,
   "metadata": {},
   "outputs": [
    {
     "data": {
      "text/plain": [
       "LBMX10058491    65\n",
       "LBMX91004359    65\n",
       "LBMX10058492    35\n",
       "LBMX10058494    22\n",
       "LBMX10058495    20\n",
       "LBMX10058496    15\n",
       "LBMX10058493    12\n",
       "Name: Test Number, dtype: int64"
      ]
     },
     "execution_count": 33,
     "metadata": {},
     "output_type": "execute_result"
    }
   ],
   "source": [
    "data['Test Number'].value_counts()"
   ]
  },
  {
   "cell_type": "code",
   "execution_count": 34,
   "metadata": {},
   "outputs": [
    {
     "data": {
      "text/plain": [
       "Federal fuel 2-day exhaust (w/can load)    65\n",
       "Federal fuel 3-day exhaust                 65\n",
       "HWFE                                       35\n",
       "US06                                       22\n",
       "Fed. fuel 50 F exh.                        20\n",
       "Cold CO                                    15\n",
       "SC03                                       12\n",
       "Name: Test Procedure Description, dtype: int64"
      ]
     },
     "execution_count": 34,
     "metadata": {},
     "output_type": "execute_result"
    }
   ],
   "source": [
    "data['Test Procedure Description'].value_counts()"
   ]
  },
  {
   "cell_type": "code",
   "execution_count": 37,
   "metadata": {},
   "outputs": [
    {
     "data": {
      "text/plain": [
       "CO          43\n",
       "NMOG        43\n",
       "NOX         43\n",
       "NMOG+NOX    35\n",
       "PM          30\n",
       "CREE        15\n",
       "N2O         10\n",
       "METHANE     10\n",
       "HC-NM        5\n",
       "Name: Emission Name, dtype: int64"
      ]
     },
     "execution_count": 37,
     "metadata": {},
     "output_type": "execute_result"
    }
   ],
   "source": [
    "data['Emission Name'].value_counts()"
   ]
  },
  {
   "cell_type": "code",
   "execution_count": 10,
   "metadata": {},
   "outputs": [],
   "source": [
    "df.dropna(subset=['Rounded Emission Result (g/mi)'],inplace=True)"
   ]
  },
  {
   "cell_type": "markdown",
   "metadata": {},
   "source": [
    "Since this dataset did not separate electric car from gas car, I decided to split the data into three pieces: <br>\n",
    "gas, ev, and hybrid car <br>"
   ]
  },
  {
   "cell_type": "code",
   "execution_count": 26,
   "metadata": {
    "scrolled": false
   },
   "outputs": [
    {
     "data": {
      "image/png": "[encoded data removed]",
      "text/plain": [
       "<Figure size 1080x432 with 2 Axes>"
      ]
     },
     "metadata": {
      "needs_background": "light"
     },
     "output_type": "display_data"
    }
   ],
   "source": [
    "f, axs = plt.subplots(1,2,figsize=(15,6))\n",
    "axs[0].hist(df['Emission Standard (g/mi)'])\n",
    "axs[1].boxplot(df['Emission Standard (g/mi)'])\n",
    "f.suptitle('Emission Standard (g/mi)')\n",
    "plt.show()"
   ]
  },
  {
   "cell_type": "code",
   "execution_count": 27,
   "metadata": {},
   "outputs": [
    {
     "data": {
      "image/png": "[encoded data removed]",
      "text/plain": [
       "<Figure size 1080x432 with 2 Axes>"
      ]
     },
     "metadata": {
      "needs_background": "light"
     },
     "output_type": "display_data"
    }
   ],
   "source": [
    "f, axs = plt.subplots(1,2,figsize=(15,6))\n",
    "axs[0].hist(df['Displacement (L)'])\n",
    "axs[1].boxplot(df['Displacement (L)'])\n",
    "f.suptitle('Displacement (L)')\n",
    "plt.show()"
   ]
  },
  {
   "cell_type": "code",
   "execution_count": 34,
   "metadata": {},
   "outputs": [
    {
     "data": {
      "text/plain": [
       "0.001     759\n",
       "0.100      70\n",
       "0.010      56\n",
       "99.999     35\n",
       "2.500       5\n",
       "99.990      4\n",
       "Name: Displacement (L), dtype: int64"
      ]
     },
     "execution_count": 34,
     "metadata": {},
     "output_type": "execute_result"
    }
   ],
   "source": [
    "df[df['Emission Standard (g/mi)']==0]['Displacement (L)'].value_counts()"
   ]
  },
  {
   "cell_type": "markdown",
   "metadata": {},
   "source": [
    "we can see that there are 5 observations that with 0 emission standard but a normal displacement, I guess this is data error. I decided to remove it."
   ]
  },
  {
   "cell_type": "code",
   "execution_count": 3,
   "metadata": {},
   "outputs": [],
   "source": [
    "df.drop(df[(df['Emission Standard (g/mi)']==0) & (df['Displacement (L)'] == 2.5)].index,inplace=True)"
   ]
  },
  {
   "cell_type": "code",
   "execution_count": 39,
   "metadata": {},
   "outputs": [
    {
     "data": {
      "text/plain": [
       "F350 4x4                1383\n",
       "1500 4X4                1277\n",
       "3500 Cab Chassis 4X4     866\n",
       "Cherokee 4X4             863\n",
       "ACCORD                   673\n",
       "                        ... \n",
       "Alpina B7 LWB xDrive       1\n",
       "CIVIC SI                   1\n",
       "F-250                      1\n",
       "SENTRA SL                  1\n",
       "FCX Clarity                1\n",
       "Name: Represented Test Vehicle Model, Length: 916, dtype: int64"
      ]
     },
     "execution_count": 39,
     "metadata": {},
     "output_type": "execute_result"
    }
   ],
   "source": [
    "df[df['Emission Standard (g/mi)']>800]['Represented Test Vehicle Model'].value_counts()"
   ]
  },
  {
   "cell_type": "markdown",
   "metadata": {},
   "source": [
    "As we can see from two plots above, there are some extrme values in the Emission Standard (g/mi), I would like to know the reason for that. Since it counts not a small portation of the data, keep it."
   ]
  },
  {
   "cell_type": "code",
   "execution_count": 43,
   "metadata": {},
   "outputs": [
    {
     "data": {
      "text/html": [
       "<div>\n",
       "<style scoped>\n",
       "    .dataframe tbody tr th:only-of-type {\n",
       "        vertical-align: middle;\n",
       "    }\n",
       "\n",
       "    .dataframe tbody tr th {\n",
       "        vertical-align: top;\n",
       "    }\n",
       "\n",
       "    .dataframe thead th {\n",
       "        text-align: right;\n",
       "    }\n",
       "</style>\n",
       "<table border=\"1\" class=\"dataframe\">\n",
       "  <thead>\n",
       "    <tr style=\"text-align: right;\">\n",
       "      <th></th>\n",
       "      <th>Displacement (L)</th>\n",
       "      <th>Emission Standard (g/mi)</th>\n",
       "    </tr>\n",
       "  </thead>\n",
       "  <tbody>\n",
       "    <tr>\n",
       "      <th>957</th>\n",
       "      <td>3.9</td>\n",
       "      <td>2.100</td>\n",
       "    </tr>\n",
       "    <tr>\n",
       "      <th>958</th>\n",
       "      <td>3.9</td>\n",
       "      <td>999.999</td>\n",
       "    </tr>\n",
       "    <tr>\n",
       "      <th>959</th>\n",
       "      <td>3.9</td>\n",
       "      <td>0.125</td>\n",
       "    </tr>\n",
       "    <tr>\n",
       "      <th>960</th>\n",
       "      <td>3.9</td>\n",
       "      <td>999.999</td>\n",
       "    </tr>\n",
       "    <tr>\n",
       "      <th>961</th>\n",
       "      <td>3.9</td>\n",
       "      <td>0.003</td>\n",
       "    </tr>\n",
       "    <tr>\n",
       "      <th>...</th>\n",
       "      <td>...</td>\n",
       "      <td>...</td>\n",
       "    </tr>\n",
       "    <tr>\n",
       "      <th>1190</th>\n",
       "      <td>3.9</td>\n",
       "      <td>0.300</td>\n",
       "    </tr>\n",
       "    <tr>\n",
       "      <th>1191</th>\n",
       "      <td>3.9</td>\n",
       "      <td>999.999</td>\n",
       "    </tr>\n",
       "    <tr>\n",
       "      <th>1192</th>\n",
       "      <td>3.9</td>\n",
       "      <td>10.100</td>\n",
       "    </tr>\n",
       "    <tr>\n",
       "      <th>1193</th>\n",
       "      <td>3.9</td>\n",
       "      <td>0.300</td>\n",
       "    </tr>\n",
       "    <tr>\n",
       "      <th>1194</th>\n",
       "      <td>3.9</td>\n",
       "      <td>999.999</td>\n",
       "    </tr>\n",
       "  </tbody>\n",
       "</table>\n",
       "<p>238 rows × 2 columns</p>\n",
       "</div>"
      ],
      "text/plain": [
       "      Displacement (L)  Emission Standard (g/mi)\n",
       "957                3.9                     2.100\n",
       "958                3.9                   999.999\n",
       "959                3.9                     0.125\n",
       "960                3.9                   999.999\n",
       "961                3.9                     0.003\n",
       "...                ...                       ...\n",
       "1190               3.9                     0.300\n",
       "1191               3.9                   999.999\n",
       "1192               3.9                    10.100\n",
       "1193               3.9                     0.300\n",
       "1194               3.9                   999.999\n",
       "\n",
       "[238 rows x 2 columns]"
      ]
     },
     "execution_count": 43,
     "metadata": {},
     "output_type": "execute_result"
    }
   ],
   "source": [
    "df[df['Vehicle ID']=='236237'][['Displacement (L)','Emission Standard (g/mi)']]"
   ]
  },
  {
   "cell_type": "markdown",
   "metadata": {},
   "source": [
    "This particular vehicle has some strange data, I decided to remove it"
   ]
  },
  {
   "cell_type": "code",
   "execution_count": 4,
   "metadata": {},
   "outputs": [],
   "source": [
    "df = df[df['Vehicle ID']!='236237']"
   ]
  },
  {
   "cell_type": "code",
   "execution_count": 5,
   "metadata": {},
   "outputs": [],
   "source": [
    "# create a new column to indicate hybrid, normal and electric car\n",
    "def sep(row):\n",
    "    dis = row['Displacement (L)']\n",
    "    if dis <= 0.1 or dis > 99:\n",
    "        return 'ev'\n",
    "    elif row['Hybrid Yes/No?'] == 'Y':\n",
    "        return 'hy'\n",
    "    else:\n",
    "        return 'gas'\n",
    "df['car_type'] = df.apply(sep,1)"
   ]
  },
  {
   "cell_type": "code",
   "execution_count": 46,
   "metadata": {},
   "outputs": [
    {
     "data": {
      "text/plain": [
       "gas    186361\n",
       "hy      20966\n",
       "ev       1289\n",
       "Name: car_type, dtype: int64"
      ]
     },
     "execution_count": 46,
     "metadata": {},
     "output_type": "execute_result"
    }
   ],
   "source": [
    "df.car_type.value_counts()"
   ]
  },
  {
   "cell_type": "code",
   "execution_count": 7,
   "metadata": {
    "scrolled": true
   },
   "outputs": [
    {
     "name": "stdout",
     "output_type": "stream",
     "text": [
      "<class 'pandas.core.frame.DataFrame'>\n",
      "Int64Index: 208616 entries, 0 to 208858\n",
      "Data columns (total 56 columns):\n",
      " #   Column                               Non-Null Count   Dtype  \n",
      "---  ------                               --------------   -----  \n",
      " 0   Model Year                           208616 non-null  int64  \n",
      " 1   Certificate Manufacturer Name        208616 non-null  object \n",
      " 2   Certified Test Group                 208616 non-null  object \n",
      " 3   Certified Evaporative Family         201127 non-null  object \n",
      " 4   Represented Test Vehicle Make        208616 non-null  object \n",
      " 5   Represented Test Vehicle Model       208616 non-null  object \n",
      " 6   Vehicle ID                           208616 non-null  object \n",
      " 7   Vehicle Configuration Number         208616 non-null  int64  \n",
      " 8   Displacement (L)                     208616 non-null  float64\n",
      " 9   Curb Weight (lbs.)                   208616 non-null  int64  \n",
      " 10  Gross Vehicle Weight Rating (lbs.)   159688 non-null  float64\n",
      " 11  Equivalent Test Weight (lbs.)        208616 non-null  int64  \n",
      " 12  Test Drive                           208616 non-null  object \n",
      " 13  Test Drive Description               208616 non-null  object \n",
      " 14  Transmission Type                    208616 non-null  object \n",
      " 15  Transmission Type Description        208616 non-null  object \n",
      " 16  Transmission type, if other          3009 non-null    object \n",
      " 17  Number of Gears                      208616 non-null  int64  \n",
      " 18  Transmission Lockup Yes/No?          208616 non-null  object \n",
      " 19  Creeper Gear Yes/No?                 208616 non-null  object \n",
      " 20  Vehicle Fuel Category                7200 non-null    object \n",
      " 21  Vehicle Fuel Category Description    7200 non-null    object \n",
      " 22  Hybrid Yes/No?                       208616 non-null  object \n",
      " 23  Set Coefficient A (lbf)              208616 non-null  float64\n",
      " 24  Set Coefficient B (lbf/mph)          208616 non-null  float64\n",
      " 25  Set Coefficient C (lbf/mph**2)       208616 non-null  float64\n",
      " 26  Target Coefficient A (lbf)           208616 non-null  float64\n",
      " 27  Target Coefficient B (lbf/mph)       208616 non-null  float64\n",
      " 28  Target Coefficient C (lbf/mph**2)    208616 non-null  float64\n",
      " 29  Test Number                          208616 non-null  object \n",
      " 30  Test Originator                      208616 non-null  object \n",
      " 31  Test Procedure                       208616 non-null  int64  \n",
      " 32  Test Procedure Description           208616 non-null  object \n",
      " 33  Test Fuel                            208616 non-null  int64  \n",
      " 34  Test Fuel Description                208616 non-null  object \n",
      " 35  Certification/In-Use Code            208616 non-null  object \n",
      " 36  Vehicle Class                        208616 non-null  object \n",
      " 37  Vehicle Class Description            208616 non-null  object \n",
      " 38  Certification Region                 208616 non-null  object \n",
      " 39  Certification Region Description     208616 non-null  object \n",
      " 40  Emission Standard Level Code         208616 non-null  object \n",
      " 41  Emission Standard Level Description  208616 non-null  object \n",
      " 42  Useful Life Miles (k)                208616 non-null  int64  \n",
      " 43  Emission Name                        208616 non-null  object \n",
      " 44  Rounded Emission Result (g/mi)       208613 non-null  float64\n",
      " 45  Certification Level (g/mi)           208613 non-null  float64\n",
      " 46  Emission Standard (g/mi)             208616 non-null  float64\n",
      " 47  Additive Deterioration Factor        155342 non-null  float64\n",
      " 48  Multiplicative Deterioration Factor  45336 non-null   float64\n",
      " 49  Using NMOG/NMHC Ratio?               115334 non-null  object \n",
      " 50  Ratio of NMOG to NMHC                36104 non-null   float64\n",
      " 51  Upward Diesel Adjustment Factor      9377 non-null    float64\n",
      " 52  Downward Diesel Adjustment Factor    9377 non-null    float64\n",
      " 53  Reactivity Factor (RAF)              38769 non-null   float64\n",
      " 54  Carline Models Covered               208616 non-null  object \n",
      " 55  car_type                             208616 non-null  object \n",
      "dtypes: float64(17), int64(8), object(31)\n",
      "memory usage: 90.7+ MB\n"
     ]
    }
   ],
   "source": [
    "df.info()"
   ]
  },
  {
   "cell_type": "markdown",
   "metadata": {},
   "source": [
    "Only select numerical variables of interest and keep unique combinations of coefficients"
   ]
  },
  {
   "cell_type": "code",
   "execution_count": 85,
   "metadata": {},
   "outputs": [],
   "source": [
    "new_df = df[['Model Year','Vehicle ID','Carline Models Covered','Test Procedure Description','car_type','Displacement (L)','Curb Weight (lbs.)','Number of Gears','Set Coefficient A (lbf)',\\\n",
    "             'Set Coefficient B (lbf/mph)','Set Coefficient C (lbf/mph**2)','Target Coefficient A (lbf)',\\\n",
    "             'Target Coefficient B (lbf/mph)','Target Coefficient C (lbf/mph**2)']]\\\n",
    "            .drop_duplicates(subset=['Vehicle ID','Set Coefficient A (lbf)','Set Coefficient B (lbf/mph)','Set Coefficient C (lbf/mph**2)',\\\n",
    "                                     'Target Coefficient A (lbf)','Target Coefficient B (lbf/mph)','Target Coefficient C (lbf/mph**2)'])"
   ]
  },
  {
   "cell_type": "code",
   "execution_count": 86,
   "metadata": {},
   "outputs": [],
   "source": [
    "num_df = new_df[['Set Coefficient A (lbf)',\\\n",
    "             'Set Coefficient B (lbf/mph)','Set Coefficient C (lbf/mph**2)','Target Coefficient A (lbf)',\\\n",
    "             'Target Coefficient B (lbf/mph)','Target Coefficient C (lbf/mph**2)']]"
   ]
  },
  {
   "cell_type": "code",
   "execution_count": 87,
   "metadata": {},
   "outputs": [],
   "source": [
    "from sklearn.preprocessing import StandardScaler\n",
    "num_df = StandardScaler().fit_transform(num_df)"
   ]
  },
  {
   "cell_type": "code",
   "execution_count": 88,
   "metadata": {},
   "outputs": [
    {
     "data": {
      "text/plain": [
       "array([[-0.00683492,  0.12220074, -0.1652767 ,  0.92664187, -0.97086803,\n",
       "        -0.05447613],\n",
       "       [-1.00291609,  0.06026709, -0.11319744,  1.33829234, -0.99399311,\n",
       "         0.02455338],\n",
       "       [ 0.12279209,  0.06911475, -0.18286792,  0.92664187, -0.97086803,\n",
       "        -0.07581409],\n",
       "       ...,\n",
       "       [ 0.56065845,  0.97216634,  1.781099  ,  1.53576524,  3.11464084,\n",
       "         2.14070004],\n",
       "       [-2.57945334,  2.09139586, -0.2136757 , -0.1251549 ,  0.41131834,\n",
       "        -0.15378987],\n",
       "       [-2.57945334,  2.09139586, -0.2136757 , -0.1251549 ,  0.41131834,\n",
       "        -0.15378987]])"
      ]
     },
     "execution_count": 88,
     "metadata": {},
     "output_type": "execute_result"
    }
   ],
   "source": [
    "num_df"
   ]
  },
  {
   "cell_type": "code",
   "execution_count": 89,
   "metadata": {
    "scrolled": true
   },
   "outputs": [],
   "source": [
    "num_df = pd.DataFrame(data=num_df, index=new_df.index,columns=['Set Coefficient A (lbf)',\\\n",
    "             'Set Coefficient B (lbf/mph)','Set Coefficient C (lbf/mph**2)','Target Coefficient A (lbf)',\\\n",
    "             'Target Coefficient B (lbf/mph)','Target Coefficient C (lbf/mph**2)'])\n"
   ]
  },
  {
   "cell_type": "code",
   "execution_count": 84,
   "metadata": {},
   "outputs": [
    {
     "data": {
      "text/html": [
       "<div>\n",
       "<style scoped>\n",
       "    .dataframe tbody tr th:only-of-type {\n",
       "        vertical-align: middle;\n",
       "    }\n",
       "\n",
       "    .dataframe tbody tr th {\n",
       "        vertical-align: top;\n",
       "    }\n",
       "\n",
       "    .dataframe thead th {\n",
       "        text-align: right;\n",
       "    }\n",
       "</style>\n",
       "<table border=\"1\" class=\"dataframe\">\n",
       "  <thead>\n",
       "    <tr style=\"text-align: right;\">\n",
       "      <th></th>\n",
       "      <th>Model Year</th>\n",
       "      <th>Vehicle ID</th>\n",
       "      <th>Carline Models Covered</th>\n",
       "      <th>Test Procedure Description</th>\n",
       "      <th>car_type</th>\n",
       "      <th>Displacement (L)</th>\n",
       "      <th>Curb Weight (lbs.)</th>\n",
       "      <th>Number of Gears</th>\n",
       "      <th>Set Coefficient A (lbf)</th>\n",
       "      <th>Set Coefficient B (lbf/mph)</th>\n",
       "      <th>Set Coefficient C (lbf/mph**2)</th>\n",
       "      <th>Target Coefficient A (lbf)</th>\n",
       "      <th>Target Coefficient B (lbf/mph)</th>\n",
       "      <th>Target Coefficient C (lbf/mph**2)</th>\n",
       "    </tr>\n",
       "  </thead>\n",
       "  <tbody>\n",
       "    <tr>\n",
       "      <th>0</th>\n",
       "      <td>2021</td>\n",
       "      <td>LE67191</td>\n",
       "      <td>BMW: 228i xDrive Gran Coupe, 230i Convertible,...</td>\n",
       "      <td>Federal fuel 3-day exhaust</td>\n",
       "      <td>gas</td>\n",
       "      <td>2.0</td>\n",
       "      <td>4116</td>\n",
       "      <td>8</td>\n",
       "      <td>14.8</td>\n",
       "      <td>0.172</td>\n",
       "      <td>0.02247</td>\n",
       "      <td>61.5</td>\n",
       "      <td>-0.090</td>\n",
       "      <td>0.02705</td>\n",
       "    </tr>\n",
       "    <tr>\n",
       "      <th>38</th>\n",
       "      <td>2021</td>\n",
       "      <td>LE67191</td>\n",
       "      <td>BMW: 228i xDrive Gran Coupe, 230i Convertible,...</td>\n",
       "      <td>Cold CO</td>\n",
       "      <td>gas</td>\n",
       "      <td>2.0</td>\n",
       "      <td>4116</td>\n",
       "      <td>8</td>\n",
       "      <td>0.2</td>\n",
       "      <td>0.151</td>\n",
       "      <td>0.02472</td>\n",
       "      <td>68.4</td>\n",
       "      <td>-0.100</td>\n",
       "      <td>0.03005</td>\n",
       "    </tr>\n",
       "    <tr>\n",
       "      <th>41</th>\n",
       "      <td>2021</td>\n",
       "      <td>LE67191</td>\n",
       "      <td>BMW: 228i xDrive Gran Coupe, 230i Convertible,...</td>\n",
       "      <td>Federal fuel 2-day exhaust (w/can load)</td>\n",
       "      <td>gas</td>\n",
       "      <td>2.0</td>\n",
       "      <td>4116</td>\n",
       "      <td>8</td>\n",
       "      <td>16.7</td>\n",
       "      <td>0.154</td>\n",
       "      <td>0.02171</td>\n",
       "      <td>61.5</td>\n",
       "      <td>-0.090</td>\n",
       "      <td>0.02624</td>\n",
       "    </tr>\n",
       "    <tr>\n",
       "      <th>108</th>\n",
       "      <td>2021</td>\n",
       "      <td>LG69397</td>\n",
       "      <td>BMW: 330e, 330e xDrive, 530e, 530e xDrive, X3 ...</td>\n",
       "      <td>Federal fuel 3-day exhaust</td>\n",
       "      <td>hy</td>\n",
       "      <td>2.0</td>\n",
       "      <td>4586</td>\n",
       "      <td>8</td>\n",
       "      <td>26.3</td>\n",
       "      <td>-0.217</td>\n",
       "      <td>0.02542</td>\n",
       "      <td>70.8</td>\n",
       "      <td>-0.255</td>\n",
       "      <td>0.02775</td>\n",
       "    </tr>\n",
       "    <tr>\n",
       "      <th>130</th>\n",
       "      <td>2021</td>\n",
       "      <td>LG69397</td>\n",
       "      <td>BMW: 330e, 330e xDrive, 530e, 530e xDrive, X3 ...</td>\n",
       "      <td>Cold CO</td>\n",
       "      <td>hy</td>\n",
       "      <td>2.0</td>\n",
       "      <td>4586</td>\n",
       "      <td>8</td>\n",
       "      <td>16.0</td>\n",
       "      <td>-0.342</td>\n",
       "      <td>0.28620</td>\n",
       "      <td>78.6</td>\n",
       "      <td>-0.283</td>\n",
       "      <td>0.03083</td>\n",
       "    </tr>\n",
       "  </tbody>\n",
       "</table>\n",
       "</div>"
      ],
      "text/plain": [
       "     Model Year Vehicle ID                             Carline Models Covered  \\\n",
       "0          2021    LE67191  BMW: 228i xDrive Gran Coupe, 230i Convertible,...   \n",
       "38         2021    LE67191  BMW: 228i xDrive Gran Coupe, 230i Convertible,...   \n",
       "41         2021    LE67191  BMW: 228i xDrive Gran Coupe, 230i Convertible,...   \n",
       "108        2021    LG69397  BMW: 330e, 330e xDrive, 530e, 530e xDrive, X3 ...   \n",
       "130        2021    LG69397  BMW: 330e, 330e xDrive, 530e, 530e xDrive, X3 ...   \n",
       "\n",
       "                  Test Procedure Description car_type  Displacement (L)  \\\n",
       "0                 Federal fuel 3-day exhaust      gas               2.0   \n",
       "38                                   Cold CO      gas               2.0   \n",
       "41   Federal fuel 2-day exhaust (w/can load)      gas               2.0   \n",
       "108               Federal fuel 3-day exhaust       hy               2.0   \n",
       "130                                  Cold CO       hy               2.0   \n",
       "\n",
       "     Curb Weight (lbs.)  Number of Gears  Set Coefficient A (lbf)  \\\n",
       "0                  4116                8                     14.8   \n",
       "38                 4116                8                      0.2   \n",
       "41                 4116                8                     16.7   \n",
       "108                4586                8                     26.3   \n",
       "130                4586                8                     16.0   \n",
       "\n",
       "     Set Coefficient B (lbf/mph)  Set Coefficient C (lbf/mph**2)  \\\n",
       "0                          0.172                         0.02247   \n",
       "38                         0.151                         0.02472   \n",
       "41                         0.154                         0.02171   \n",
       "108                       -0.217                         0.02542   \n",
       "130                       -0.342                         0.28620   \n",
       "\n",
       "     Target Coefficient A (lbf)  Target Coefficient B (lbf/mph)  \\\n",
       "0                          61.5                          -0.090   \n",
       "38                         68.4                          -0.100   \n",
       "41                         61.5                          -0.090   \n",
       "108                        70.8                          -0.255   \n",
       "130                        78.6                          -0.283   \n",
       "\n",
       "     Target Coefficient C (lbf/mph**2)  \n",
       "0                              0.02705  \n",
       "38                             0.03005  \n",
       "41                             0.02624  \n",
       "108                            0.02775  \n",
       "130                            0.03083  "
      ]
     },
     "execution_count": 84,
     "metadata": {},
     "output_type": "execute_result"
    }
   ],
   "source": [
    "new_df.head()"
   ]
  },
  {
   "cell_type": "code",
   "execution_count": 101,
   "metadata": {},
   "outputs": [
    {
     "data": {
      "text/html": [
       "<div>\n",
       "<style scoped>\n",
       "    .dataframe tbody tr th:only-of-type {\n",
       "        vertical-align: middle;\n",
       "    }\n",
       "\n",
       "    .dataframe tbody tr th {\n",
       "        vertical-align: top;\n",
       "    }\n",
       "\n",
       "    .dataframe thead th {\n",
       "        text-align: right;\n",
       "    }\n",
       "</style>\n",
       "<table border=\"1\" class=\"dataframe\">\n",
       "  <thead>\n",
       "    <tr style=\"text-align: right;\">\n",
       "      <th></th>\n",
       "      <th>Set Coefficient A (lbf)</th>\n",
       "      <th>Set Coefficient B (lbf/mph)</th>\n",
       "      <th>Set Coefficient C (lbf/mph**2)</th>\n",
       "      <th>Target Coefficient A (lbf)</th>\n",
       "      <th>Target Coefficient B (lbf/mph)</th>\n",
       "      <th>Target Coefficient C (lbf/mph**2)</th>\n",
       "      <th>car_type</th>\n",
       "      <th>Displacement (L)</th>\n",
       "      <th>Curb Weight (lbs.)</th>\n",
       "      <th>Number of Gears</th>\n",
       "    </tr>\n",
       "  </thead>\n",
       "  <tbody>\n",
       "    <tr>\n",
       "      <th>0</th>\n",
       "      <td>-0.006835</td>\n",
       "      <td>0.122201</td>\n",
       "      <td>-0.165277</td>\n",
       "      <td>0.926642</td>\n",
       "      <td>-0.970868</td>\n",
       "      <td>-0.054476</td>\n",
       "      <td>gas</td>\n",
       "      <td>2.0</td>\n",
       "      <td>4116</td>\n",
       "      <td>8</td>\n",
       "    </tr>\n",
       "    <tr>\n",
       "      <th>38</th>\n",
       "      <td>-1.002916</td>\n",
       "      <td>0.060267</td>\n",
       "      <td>-0.113197</td>\n",
       "      <td>1.338292</td>\n",
       "      <td>-0.993993</td>\n",
       "      <td>0.024553</td>\n",
       "      <td>gas</td>\n",
       "      <td>2.0</td>\n",
       "      <td>4116</td>\n",
       "      <td>8</td>\n",
       "    </tr>\n",
       "    <tr>\n",
       "      <th>41</th>\n",
       "      <td>0.122792</td>\n",
       "      <td>0.069115</td>\n",
       "      <td>-0.182868</td>\n",
       "      <td>0.926642</td>\n",
       "      <td>-0.970868</td>\n",
       "      <td>-0.075814</td>\n",
       "      <td>gas</td>\n",
       "      <td>2.0</td>\n",
       "      <td>4116</td>\n",
       "      <td>8</td>\n",
       "    </tr>\n",
       "    <tr>\n",
       "      <th>108</th>\n",
       "      <td>0.777750</td>\n",
       "      <td>-1.025046</td>\n",
       "      <td>-0.096995</td>\n",
       "      <td>1.481475</td>\n",
       "      <td>-1.352432</td>\n",
       "      <td>-0.036036</td>\n",
       "      <td>hy</td>\n",
       "      <td>2.0</td>\n",
       "      <td>4586</td>\n",
       "      <td>8</td>\n",
       "    </tr>\n",
       "    <tr>\n",
       "      <th>130</th>\n",
       "      <td>0.075035</td>\n",
       "      <td>-1.393699</td>\n",
       "      <td>5.939107</td>\n",
       "      <td>1.946819</td>\n",
       "      <td>-1.417182</td>\n",
       "      <td>0.045101</td>\n",
       "      <td>hy</td>\n",
       "      <td>2.0</td>\n",
       "      <td>4586</td>\n",
       "      <td>8</td>\n",
       "    </tr>\n",
       "    <tr>\n",
       "      <th>...</th>\n",
       "      <td>...</td>\n",
       "      <td>...</td>\n",
       "      <td>...</td>\n",
       "      <td>...</td>\n",
       "      <td>...</td>\n",
       "      <td>...</td>\n",
       "      <td>...</td>\n",
       "      <td>...</td>\n",
       "      <td>...</td>\n",
       "      <td>...</td>\n",
       "    </tr>\n",
       "    <tr>\n",
       "      <th>208768</th>\n",
       "      <td>-0.154746</td>\n",
       "      <td>1.201085</td>\n",
       "      <td>0.030078</td>\n",
       "      <td>0.051437</td>\n",
       "      <td>1.008177</td>\n",
       "      <td>0.058009</td>\n",
       "      <td>gas</td>\n",
       "      <td>3.7</td>\n",
       "      <td>6000</td>\n",
       "      <td>6</td>\n",
       "    </tr>\n",
       "    <tr>\n",
       "      <th>208776</th>\n",
       "      <td>1.384267</td>\n",
       "      <td>-0.029684</td>\n",
       "      <td>0.365469</td>\n",
       "      <td>1.736221</td>\n",
       "      <td>0.810226</td>\n",
       "      <td>1.720263</td>\n",
       "      <td>gas</td>\n",
       "      <td>5.4</td>\n",
       "      <td>6500</td>\n",
       "      <td>4</td>\n",
       "    </tr>\n",
       "    <tr>\n",
       "      <th>208783</th>\n",
       "      <td>0.560658</td>\n",
       "      <td>0.972166</td>\n",
       "      <td>1.781099</td>\n",
       "      <td>1.535765</td>\n",
       "      <td>3.114641</td>\n",
       "      <td>2.140700</td>\n",
       "      <td>gas</td>\n",
       "      <td>6.2</td>\n",
       "      <td>10000</td>\n",
       "      <td>6</td>\n",
       "    </tr>\n",
       "    <tr>\n",
       "      <th>208834</th>\n",
       "      <td>-2.579453</td>\n",
       "      <td>2.091396</td>\n",
       "      <td>-0.213676</td>\n",
       "      <td>-0.125155</td>\n",
       "      <td>0.411318</td>\n",
       "      <td>-0.153790</td>\n",
       "      <td>gas</td>\n",
       "      <td>3.6</td>\n",
       "      <td>5000</td>\n",
       "      <td>6</td>\n",
       "    </tr>\n",
       "    <tr>\n",
       "      <th>208839</th>\n",
       "      <td>-2.579453</td>\n",
       "      <td>2.091396</td>\n",
       "      <td>-0.213676</td>\n",
       "      <td>-0.125155</td>\n",
       "      <td>0.411318</td>\n",
       "      <td>-0.153790</td>\n",
       "      <td>gas</td>\n",
       "      <td>3.6</td>\n",
       "      <td>5000</td>\n",
       "      <td>6</td>\n",
       "    </tr>\n",
       "  </tbody>\n",
       "</table>\n",
       "<p>3361 rows × 10 columns</p>\n",
       "</div>"
      ],
      "text/plain": [
       "        Set Coefficient A (lbf)  Set Coefficient B (lbf/mph)  \\\n",
       "0                     -0.006835                     0.122201   \n",
       "38                    -1.002916                     0.060267   \n",
       "41                     0.122792                     0.069115   \n",
       "108                    0.777750                    -1.025046   \n",
       "130                    0.075035                    -1.393699   \n",
       "...                         ...                          ...   \n",
       "208768                -0.154746                     1.201085   \n",
       "208776                 1.384267                    -0.029684   \n",
       "208783                 0.560658                     0.972166   \n",
       "208834                -2.579453                     2.091396   \n",
       "208839                -2.579453                     2.091396   \n",
       "\n",
       "        Set Coefficient C (lbf/mph**2)  Target Coefficient A (lbf)  \\\n",
       "0                            -0.165277                    0.926642   \n",
       "38                           -0.113197                    1.338292   \n",
       "41                           -0.182868                    0.926642   \n",
       "108                          -0.096995                    1.481475   \n",
       "130                           5.939107                    1.946819   \n",
       "...                                ...                         ...   \n",
       "208768                        0.030078                    0.051437   \n",
       "208776                        0.365469                    1.736221   \n",
       "208783                        1.781099                    1.535765   \n",
       "208834                       -0.213676                   -0.125155   \n",
       "208839                       -0.213676                   -0.125155   \n",
       "\n",
       "        Target Coefficient B (lbf/mph)  Target Coefficient C (lbf/mph**2)  \\\n",
       "0                            -0.970868                          -0.054476   \n",
       "38                           -0.993993                           0.024553   \n",
       "41                           -0.970868                          -0.075814   \n",
       "108                          -1.352432                          -0.036036   \n",
       "130                          -1.417182                           0.045101   \n",
       "...                                ...                                ...   \n",
       "208768                        1.008177                           0.058009   \n",
       "208776                        0.810226                           1.720263   \n",
       "208783                        3.114641                           2.140700   \n",
       "208834                        0.411318                          -0.153790   \n",
       "208839                        0.411318                          -0.153790   \n",
       "\n",
       "       car_type  Displacement (L)  Curb Weight (lbs.)  Number of Gears  \n",
       "0           gas               2.0                4116                8  \n",
       "38          gas               2.0                4116                8  \n",
       "41          gas               2.0                4116                8  \n",
       "108          hy               2.0                4586                8  \n",
       "130          hy               2.0                4586                8  \n",
       "...         ...               ...                 ...              ...  \n",
       "208768      gas               3.7                6000                6  \n",
       "208776      gas               5.4                6500                4  \n",
       "208783      gas               6.2               10000                6  \n",
       "208834      gas               3.6                5000                6  \n",
       "208839      gas               3.6                5000                6  \n",
       "\n",
       "[3361 rows x 10 columns]"
      ]
     },
     "execution_count": 101,
     "metadata": {},
     "output_type": "execute_result"
    }
   ],
   "source": [
    "num_df['car_type'] = new_df['car_type']\n",
    "num_df['Displacement (L)'] = new_df['Displacement (L)']\n",
    "num_df['Curb Weight (lbs.)'] = new_df['Curb Weight (lbs.)']\n",
    "num_df['Number of Gears'] = new_df['Number of Gears']\n",
    "num_df"
   ]
  },
  {
   "cell_type": "code",
   "execution_count": 93,
   "metadata": {},
   "outputs": [],
   "source": [
    "gas = num_df[num_df.car_type=='gas']\n",
    "ev = num_df[num_df.car_type=='ev']\n",
    "hybrid = num_df[num_df.car_type=='hy']"
   ]
  },
  {
   "cell_type": "code",
   "execution_count": 94,
   "metadata": {
    "scrolled": false
   },
   "outputs": [
    {
     "data": {
      "image/png": "[encoded data removed]",
      "text/plain": [
       "<Figure size 720x720 with 6 Axes>"
      ]
     },
     "metadata": {
      "needs_background": "light"
     },
     "output_type": "display_data"
    }
   ],
   "source": [
    "fig,ax=plt.subplots(2,3,figsize=(10,10))\n",
    "fig.suptitle('Gas')\n",
    "i = 0\n",
    "for axs in ax.flatten():  \n",
    "    axs.boxplot(gas.iloc[:,i])\n",
    "    axs.set_title(gas.columns[i])\n",
    "    i+=1"
   ]
  },
  {
   "cell_type": "code",
   "execution_count": 95,
   "metadata": {},
   "outputs": [
    {
     "data": {
      "image/png": "[encoded data removed]",
      "text/plain": [
       "<Figure size 720x720 with 6 Axes>"
      ]
     },
     "metadata": {
      "needs_background": "light"
     },
     "output_type": "display_data"
    }
   ],
   "source": [
    "fig,ax=plt.subplots(2,3,figsize=(10,10))\n",
    "fig.suptitle('Ev')\n",
    "i = 0\n",
    "for axs in ax.flatten():  \n",
    "    axs.boxplot(ev.iloc[:,i])\n",
    "    axs.set_title(ev.columns[i])\n",
    "    i+=1"
   ]
  },
  {
   "cell_type": "code",
   "execution_count": 96,
   "metadata": {},
   "outputs": [
    {
     "data": {
      "image/png": "[encoded data removed]",
      "text/plain": [
       "<Figure size 720x720 with 6 Axes>"
      ]
     },
     "metadata": {
      "needs_background": "light"
     },
     "output_type": "display_data"
    }
   ],
   "source": [
    "fig,ax=plt.subplots(2,3,figsize=(10,10))\n",
    "fig.suptitle('hybird')\n",
    "i = 0\n",
    "for axs in ax.flatten():  \n",
    "    axs.boxplot(hybrid.iloc[:,i])\n",
    "    axs.set_title(hybrid.columns[i])\n",
    "    i+=1"
   ]
  },
  {
   "cell_type": "markdown",
   "metadata": {},
   "source": [
    "Obviously, they have different distributions"
   ]
  },
  {
   "cell_type": "code",
   "execution_count": 105,
   "metadata": {},
   "outputs": [
    {
     "data": {
      "image/png": "[encoded data removed]",
      "text/plain": [
       "<Figure size 432x288 with 1 Axes>"
      ]
     },
     "metadata": {
      "needs_background": "light"
     },
     "output_type": "display_data"
    }
   ],
   "source": [
    "from sklearn.cluster import KMeans\n",
    "distortions = []\n",
    "for i in range(1, 25):\n",
    "    km_set = KMeans(n_clusters=i)\n",
    "    km_set.fit(gas.iloc[:,0:3].values)\n",
    "    distortions.append(km_set.inertia_)\n",
    "\n",
    "# plot\n",
    "plt.plot(range(1, 25), distortions, marker='o')\n",
    "plt.xlabel('Number of clusters')\n",
    "plt.ylabel('Distortion')\n",
    "plt.title('gas')\n",
    "plt.show()"
   ]
  },
  {
   "cell_type": "code",
   "execution_count": 71,
   "metadata": {},
   "outputs": [
    {
     "data": {
      "image/png": "[encoded data removed]",
      "text/plain": [
       "<Figure size 432x288 with 1 Axes>"
      ]
     },
     "metadata": {
      "needs_background": "light"
     },
     "output_type": "display_data"
    }
   ],
   "source": [
    "distortions = []\n",
    "for i in range(1, 25):\n",
    "    km_set = KMeans(n_clusters=i)\n",
    "    km_set.fit(ev.drop(ev.columns[0:5],axis=1).values)\n",
    "    distortions.append(km_set.inertia_)\n",
    "\n",
    "# plot\n",
    "plt.plot(range(1, 25), distortions, marker='o')\n",
    "plt.xlabel('Number of clusters')\n",
    "plt.ylabel('Distortion')\n",
    "plt.title('ev')\n",
    "plt.show()"
   ]
  },
  {
   "cell_type": "code",
   "execution_count": 72,
   "metadata": {},
   "outputs": [
    {
     "data": {
      "image/png": "[encoded data removed]",
      "text/plain": [
       "<Figure size 432x288 with 1 Axes>"
      ]
     },
     "metadata": {
      "needs_background": "light"
     },
     "output_type": "display_data"
    }
   ],
   "source": [
    "distortions = []\n",
    "for i in range(1, 25):\n",
    "    km_set = KMeans(n_clusters=i)\n",
    "    km_set.fit(hybrid.drop(hybrid.columns[0:5],axis=1).values)\n",
    "    distortions.append(km_set.inertia_)\n",
    "\n",
    "# plot\n",
    "plt.plot(range(1, 25), distortions, marker='o')\n",
    "plt.xlabel('Number of clusters')\n",
    "plt.ylabel('Distortion')\n",
    "plt.title('hybrid')\n",
    "plt.show()"
   ]
  },
  {
   "cell_type": "markdown",
   "metadata": {},
   "source": [
    "we choose k = 5"
   ]
  },
  {
   "cell_type": "code",
   "execution_count": 73,
   "metadata": {},
   "outputs": [
    {
     "name": "stderr",
     "output_type": "stream",
     "text": [
      "/home/guojp/miniconda3/lib/python3.7/site-packages/ipykernel_launcher.py:11: SettingWithCopyWarning: \n",
      "A value is trying to be set on a copy of a slice from a DataFrame.\n",
      "Try using .loc[row_indexer,col_indexer] = value instead\n",
      "\n",
      "See the caveats in the documentation: https://pandas.pydata.org/pandas-docs/stable/user_guide/indexing.html#returning-a-view-versus-a-copy\n",
      "  # This is added back by InteractiveShellApp.init_path()\n",
      "/home/guojp/miniconda3/lib/python3.7/site-packages/ipykernel_launcher.py:12: SettingWithCopyWarning: \n",
      "A value is trying to be set on a copy of a slice from a DataFrame.\n",
      "Try using .loc[row_indexer,col_indexer] = value instead\n",
      "\n",
      "See the caveats in the documentation: https://pandas.pydata.org/pandas-docs/stable/user_guide/indexing.html#returning-a-view-versus-a-copy\n",
      "  if sys.path[0] == '':\n",
      "/home/guojp/miniconda3/lib/python3.7/site-packages/ipykernel_launcher.py:13: SettingWithCopyWarning: \n",
      "A value is trying to be set on a copy of a slice from a DataFrame.\n",
      "Try using .loc[row_indexer,col_indexer] = value instead\n",
      "\n",
      "See the caveats in the documentation: https://pandas.pydata.org/pandas-docs/stable/user_guide/indexing.html#returning-a-view-versus-a-copy\n",
      "  del sys.path[0]\n"
     ]
    }
   ],
   "source": [
    "from sklearn.cluster import KMeans\n",
    "km = KMeans(n_clusters=5).fit(gas.drop(gas.columns[0:5],axis=1).values)\n",
    "gas_label = km.labels_\n",
    "\n",
    "km = KMeans(n_clusters=5).fit(ev.drop(ev.columns[0:5],axis=1).values)\n",
    "ev_label = km.labels_\n",
    "\n",
    "km = KMeans(n_clusters=5).fit(hybrid.drop(hybrid.columns[0:5],axis=1).values)\n",
    "hy_label = km.labels_\n",
    "\n",
    "gas['label'] = gas_label\n",
    "ev['label'] = ev_label\n",
    "hybrid['label'] = hy_label"
   ]
  },
  {
   "cell_type": "code",
   "execution_count": 76,
   "metadata": {},
   "outputs": [],
   "source": [
    "gas.reset_index(inplace=True)\n",
    "gas.set_index(['car_type','Set Coefficient A (lbf)',\\\n",
    "             'Set Coefficient B (lbf/mph)','Set Coefficient C (lbf/mph**2)','Target Coefficient A (lbf)',\\\n",
    "             'Target Coefficient B (lbf/mph)','Target Coefficient C (lbf/mph**2)'],inplace=True)\n",
    "gas_full = df[df.car_type=='gas']\n",
    "gas = gas_full.join(gas, on=['car_type','Set Coefficient A (lbf)','Set Coefficient B (lbf/mph)','Set Coefficient C (lbf/mph**2)',\\\n",
    "                       'Target Coefficient A (lbf)',\n",
    "             'Target Coefficient B (lbf/mph)','Target Coefficient C (lbf/mph**2)'],\\\n",
    "             lsuffix='',rsuffix='_sub')"
   ]
  },
  {
   "cell_type": "code",
   "execution_count": 78,
   "metadata": {},
   "outputs": [],
   "source": [
    "ev_full = df[df.car_type=='ev']\n",
    "ev.set_index(['car_type','Set Coefficient A (lbf)',\\\n",
    "             'Set Coefficient B (lbf/mph)','Set Coefficient C (lbf/mph**2)','Target Coefficient A (lbf)',\\\n",
    "             'Target Coefficient B (lbf/mph)','Target Coefficient C (lbf/mph**2)'],inplace=True)\n",
    "ev_full = ev_full.join(ev, on=['car_type','Set Coefficient A (lbf)','Set Coefficient B (lbf/mph)','Set Coefficient C (lbf/mph**2)',\\\n",
    "                       'Target Coefficient A (lbf)',\n",
    "             'Target Coefficient B (lbf/mph)','Target Coefficient C (lbf/mph**2)'],\\\n",
    "             lsuffix='',rsuffix='_sub')"
   ]
  },
  {
   "cell_type": "code",
   "execution_count": 79,
   "metadata": {},
   "outputs": [],
   "source": [
    "hybrid_full = df[df.car_type=='hy']\n",
    "hybrid.set_index(['car_type','Set Coefficient A (lbf)',\\\n",
    "             'Set Coefficient B (lbf/mph)','Set Coefficient C (lbf/mph**2)','Target Coefficient A (lbf)',\\\n",
    "             'Target Coefficient B (lbf/mph)','Target Coefficient C (lbf/mph**2)'],inplace=True)\n",
    "hybrid_full = hybrid_full.join(hybrid, on=['car_type','Set Coefficient A (lbf)','Set Coefficient B (lbf/mph)','Set Coefficient C (lbf/mph**2)',\\\n",
    "                       'Target Coefficient A (lbf)',\n",
    "             'Target Coefficient B (lbf/mph)','Target Coefficient C (lbf/mph**2)'],\\\n",
    "             lsuffix='',rsuffix='_sub')"
   ]
  },
  {
   "cell_type": "code",
   "execution_count": 90,
   "metadata": {
    "scrolled": true
   },
   "outputs": [],
   "source": [
    "gas = gas.loc[:,~gas.columns.str.endswith('_sub')]\n",
    "ev_full = ev_full.loc[:,~ev_full.columns.str.endswith('_sub')]\n",
    "hybrid_full = hybrid_full.loc[:,~hybrid_full.columns.str.endswith('_sub')]"
   ]
  },
  {
   "cell_type": "markdown",
   "metadata": {},
   "source": [
    "A demo for implementing Gradient Boosting Regressor in SKlearn"
   ]
  },
  {
   "cell_type": "markdown",
   "metadata": {},
   "source": [
    "First, I apply regression to the gas data and ingore labels <br>\n",
    "Rounded Emission Result (g/mi) is Y"
   ]
  },
  {
   "cell_type": "code",
   "execution_count": 105,
   "metadata": {
    "scrolled": true
   },
   "outputs": [
    {
     "name": "stdout",
     "output_type": "stream",
     "text": [
      "<class 'pandas.core.frame.DataFrame'>\n",
      "Int64Index: 197210 entries, 0 to 208858\n",
      "Data columns (total 57 columns):\n",
      " #   Column                               Non-Null Count   Dtype  \n",
      "---  ------                               --------------   -----  \n",
      " 0   Model Year                           197210 non-null  int64  \n",
      " 1   Certificate Manufacturer Name        197210 non-null  object \n",
      " 2   Certified Test Group                 197210 non-null  object \n",
      " 3   Certified Evaporative Family         191010 non-null  object \n",
      " 4   Represented Test Vehicle Make        197210 non-null  object \n",
      " 5   Represented Test Vehicle Model       197210 non-null  object \n",
      " 6   Vehicle ID                           197210 non-null  object \n",
      " 7   Vehicle Configuration Number         197210 non-null  int64  \n",
      " 8   Displacement (L)                     197210 non-null  float64\n",
      " 9   Curb Weight (lbs.)                   197210 non-null  int64  \n",
      " 10  Gross Vehicle Weight Rating (lbs.)   152385 non-null  float64\n",
      " 11  Equivalent Test Weight (lbs.)        197210 non-null  int64  \n",
      " 12  Test Drive                           197210 non-null  object \n",
      " 13  Test Drive Description               197210 non-null  object \n",
      " 14  Transmission Type                    197210 non-null  object \n",
      " 15  Transmission Type Description        197210 non-null  object \n",
      " 16  Transmission type, if other          2076 non-null    object \n",
      " 17  Number of Gears                      197210 non-null  int64  \n",
      " 18  Transmission Lockup Yes/No?          197210 non-null  object \n",
      " 19  Creeper Gear Yes/No?                 197210 non-null  object \n",
      " 20  Vehicle Fuel Category                7249 non-null    object \n",
      " 21  Vehicle Fuel Category Description    7249 non-null    object \n",
      " 22  Hybrid Yes/No?                       197210 non-null  object \n",
      " 23  Set Coefficient A (lbf)              197210 non-null  float64\n",
      " 24  Set Coefficient B (lbf/mph)          197210 non-null  float64\n",
      " 25  Set Coefficient C (lbf/mph**2)       197210 non-null  float64\n",
      " 26  Target Coefficient A (lbf)           197210 non-null  float64\n",
      " 27  Target Coefficient B (lbf/mph)       197210 non-null  float64\n",
      " 28  Target Coefficient C (lbf/mph**2)    197210 non-null  float64\n",
      " 29  Test Number                          197210 non-null  object \n",
      " 30  Test Originator                      197210 non-null  object \n",
      " 31  Test Procedure                       197210 non-null  int64  \n",
      " 32  Test Procedure Description           197210 non-null  object \n",
      " 33  Test Fuel                            197210 non-null  int64  \n",
      " 34  Test Fuel Description                197210 non-null  object \n",
      " 35  Certification/In-Use Code            197210 non-null  object \n",
      " 36  Vehicle Class                        197210 non-null  object \n",
      " 37  Vehicle Class Description            197210 non-null  object \n",
      " 38  Certification Region                 197210 non-null  object \n",
      " 39  Certification Region Description     197210 non-null  object \n",
      " 40  Emission Standard Level Code         197210 non-null  object \n",
      " 41  Emission Standard Level Description  197210 non-null  object \n",
      " 42  Useful Life Miles (k)                197210 non-null  int64  \n",
      " 43  Emission Name                        197210 non-null  object \n",
      " 44  Rounded Emission Result (g/mi)       197210 non-null  float64\n",
      " 45  Certification Level (g/mi)           197210 non-null  float64\n",
      " 46  Emission Standard (g/mi)             197210 non-null  float64\n",
      " 47  Additive Deterioration Factor        147349 non-null  float64\n",
      " 48  Multiplicative Deterioration Factor  41907 non-null   float64\n",
      " 49  Using NMOG/NMHC Ratio?               110065 non-null  object \n",
      " 50  Ratio of NMOG to NMHC                34012 non-null   float64\n",
      " 51  Upward Diesel Adjustment Factor      8333 non-null    float64\n",
      " 52  Downward Diesel Adjustment Factor    8333 non-null    float64\n",
      " 53  Reactivity Factor (RAF)              38994 non-null   float64\n",
      " 54  Carline Models Covered               197210 non-null  object \n",
      " 55  car_type                             197210 non-null  object \n",
      " 56  label                                197210 non-null  int32  \n",
      "dtypes: float64(17), int32(1), int64(8), object(31)\n",
      "memory usage: 86.5+ MB\n"
     ]
    }
   ],
   "source": [
    "gas.info()"
   ]
  },
  {
   "cell_type": "code",
   "execution_count": null,
   "metadata": {},
   "outputs": [],
   "source": []
  },
  {
   "cell_type": "code",
   "execution_count": 130,
   "metadata": {},
   "outputs": [
    {
     "data": {
      "text/plain": [
       "GradientBoostingRegressor(random_state=0)"
      ]
     },
     "execution_count": 130,
     "metadata": {},
     "output_type": "execute_result"
    }
   ],
   "source": [
    "from sklearn.ensemble import GradientBoostingRegressor\n",
    "from sklearn.model_selection import train_test_split\n",
    "y = gas['Rounded Emission Result (g/mi)']\n",
    "X = gas[['Model Year','Displacement (L)','Curb Weight (lbs.)','Number of Gears','Useful Life Miles (k)',\\\n",
    "        'Set Coefficient A (lbf)','Set Coefficient B (lbf/mph)','Set Coefficient C (lbf/mph**2)','label']]\n",
    "X_train, X_test, y_train, y_test = train_test_split(X, y, random_state=0)\n",
    "reg = GradientBoostingRegressor(random_state=0)\n",
    "reg.fit(X_train, y_train)"
   ]
  },
  {
   "cell_type": "code",
   "execution_count": 131,
   "metadata": {},
   "outputs": [
    {
     "data": {
      "text/plain": [
       "0.05788616221395526"
      ]
     },
     "execution_count": 131,
     "metadata": {},
     "output_type": "execute_result"
    }
   ],
   "source": [
    "reg.score(X_test, y_test)"
   ]
  },
  {
   "cell_type": "code",
   "execution_count": 132,
   "metadata": {},
   "outputs": [
    {
     "data": {
      "text/plain": [
       "0.06349406859035833"
      ]
     },
     "execution_count": 132,
     "metadata": {},
     "output_type": "execute_result"
    }
   ],
   "source": [
    "reg.score(X_train, y_train)"
   ]
  },
  {
   "cell_type": "markdown",
   "metadata": {},
   "source": [
    "we can see that the performance of this model is very bad (The best possible score is 1.0) <br>\n",
    "below I will try to leverage the clustering analysis"
   ]
  },
  {
   "cell_type": "code",
   "execution_count": 108,
   "metadata": {},
   "outputs": [
    {
     "data": {
      "text/plain": [
       "3    78572\n",
       "1    59562\n",
       "0    37176\n",
       "4    14391\n",
       "2     7509\n",
       "Name: label, dtype: int64"
      ]
     },
     "execution_count": 108,
     "metadata": {},
     "output_type": "execute_result"
    }
   ],
   "source": [
    "gas.label.value_counts()"
   ]
  },
  {
   "cell_type": "markdown",
   "metadata": {},
   "source": [
    "I will choose group 3 as a demo"
   ]
  },
  {
   "cell_type": "code",
   "execution_count": 109,
   "metadata": {},
   "outputs": [
    {
     "name": "stdout",
     "output_type": "stream",
     "text": [
      "training score 0.12005073724342219 testing score 0.09594396912376524\n"
     ]
    }
   ],
   "source": [
    "y = gas[gas.label==3]['Rounded Emission Result (g/mi)']\n",
    "X = gas[gas.label==3][['Model Year','Displacement (L)','Curb Weight (lbs.)','Number of Gears','Useful Life Miles (k)',\\\n",
    "        'Set Coefficient A (lbf)','Set Coefficient B (lbf/mph)','Set Coefficient C (lbf/mph**2)']]\n",
    "X_train, X_test, y_train, y_test = train_test_split(X, y, random_state=0)\n",
    "reg = GradientBoostingRegressor(random_state=0)\n",
    "reg.fit(X_train, y_train)\n",
    "print('training score',reg.score(X_train, y_train),'testing score',reg.score(X_test, y_test))"
   ]
  },
  {
   "cell_type": "markdown",
   "metadata": {},
   "source": [
    "As shown above, it helps. You can try any model by changing the import part: <br>\n",
    "`from sklearn.ensemble import GradientBoostingRegressor`\n",
    "<br>\n",
    "if you want Lasso: <br>\n",
    "`from sklearn import linear_model\n",
    "reg = linear_model.LassoLars(alpha=.1)`"
   ]
  },
  {
   "cell_type": "markdown",
   "metadata": {},
   "source": [
    "Good luck :)"
   ]
  },
  {
   "cell_type": "code",
   "execution_count": 118,
   "metadata": {},
   "outputs": [
    {
     "name": "stdout",
     "output_type": "stream",
     "text": [
      "For group 0 training score 0.11141576959204369 testing score 0.09840036829386745\n",
      "For group 1 training score 0.06984984106808367 testing score 0.06372273050040933\n",
      "For group 2 training score 0.10100811554709299 testing score 0.08529400038464863\n",
      "For group 3 training score 0.12005073724342219 testing score 0.09594396912376524\n",
      "For group 4 training score 0.08795048446871545 testing score 0.06906789548795478\n"
     ]
    }
   ],
   "source": [
    "for i in range(5):\n",
    "    y = gas[gas.label==i]['Rounded Emission Result (g/mi)']\n",
    "    X = gas[gas.label==i][['Model Year','Displacement (L)','Curb Weight (lbs.)','Number of Gears','Useful Life Miles (k)',\\\n",
    "            'Set Coefficient A (lbf)','Set Coefficient B (lbf/mph)','Set Coefficient C (lbf/mph**2)']]\n",
    "    X_train, X_test, y_train, y_test = train_test_split(X, y, random_state=0)\n",
    "    reg = GradientBoostingRegressor(random_state=0)\n",
    "    reg.fit(X_train, y_train)\n",
    "    print('For group',i,'training score',reg.score(X_train, y_train),'testing score',reg.score(X_test, y_test))"
   ]
  },
  {
   "cell_type": "code",
   "execution_count": 117,
   "metadata": {},
   "outputs": [
    {
     "name": "stdout",
     "output_type": "stream",
     "text": [
      "For group 0 training score 0.10662019527033473 testing score 0.09404930591260752\n",
      "For group 1 training score 0.06746553159054047 testing score 0.05966398174330989\n",
      "For group 2 training score 0.0993348875351161 testing score 0.09357086497071743\n",
      "For group 3 training score 0.10906019614193818 testing score 0.11157186295465482\n",
      "For group 4 training score 0.08665990944275825 testing score 0.06802730547681024\n"
     ]
    }
   ],
   "source": [
    "for i in range(5):\n",
    "    y = gas[gas.label==i]['Rounded Emission Result (g/mi)']\n",
    "    X = gas[gas.label==i][['Displacement (L)','Curb Weight (lbs.)','Number of Gears','Useful Life Miles (k)',\\\n",
    "            'Set Coefficient A (lbf)','Set Coefficient B (lbf/mph)','Set Coefficient C (lbf/mph**2)']]\n",
    "    X_train, X_test, y_train, y_test = train_test_split(X, y, random_state=0)\n",
    "    reg = GradientBoostingRegressor(random_state=0)\n",
    "    reg.fit(X_train, y_train)\n",
    "    print('For group',i,'training score',reg.score(X_train, y_train),'testing score',reg.score(X_test, y_test))"
   ]
  },
  {
   "cell_type": "code",
   "execution_count": 119,
   "metadata": {},
   "outputs": [
    {
     "name": "stdout",
     "output_type": "stream",
     "text": [
      "training score 0.003323552411446662 testing score 0.0035987360706868365\n"
     ]
    }
   ],
   "source": [
    "from sklearn.neural_network import MLPRegressor\n",
    "y = gas['Rounded Emission Result (g/mi)']\n",
    "X = gas[['Model Year','Displacement (L)','Curb Weight (lbs.)','Number of Gears','Useful Life Miles (k)',\\\n",
    "        'Set Coefficient A (lbf)','Set Coefficient B (lbf/mph)','Set Coefficient C (lbf/mph**2)']]\n",
    "X_train, X_test, y_train, y_test = train_test_split(X, y, random_state=0)\n",
    "regr = MLPRegressor(hidden_layer_sizes=(10,10,10,10,10),\\\n",
    "                    random_state=1, max_iter=1000).fit(X_train, y_train)\n",
    "print('training score',regr.score(X_train, y_train),'testing score',regr.score(X_test, y_test))"
   ]
  },
  {
   "cell_type": "code",
   "execution_count": 120,
   "metadata": {},
   "outputs": [
    {
     "name": "stdout",
     "output_type": "stream",
     "text": [
      "training score 0.01716616091745571 testing score 0.015360968191266311\n"
     ]
    }
   ],
   "source": [
    "from sklearn.neural_network import MLPRegressor\n",
    "y = gas['Rounded Emission Result (g/mi)']\n",
    "X = gas[['Displacement (L)','Curb Weight (lbs.)','Number of Gears','Useful Life Miles (k)',\\\n",
    "        'Set Coefficient A (lbf)','Set Coefficient B (lbf/mph)','Set Coefficient C (lbf/mph**2)']]\n",
    "X_train, X_test, y_train, y_test = train_test_split(X, y, random_state=0)\n",
    "regr = MLPRegressor(hidden_layer_sizes=(10,10,10,10,10),\\\n",
    "                    random_state=1, max_iter=1000).fit(X_train, y_train)\n",
    "print('training score',regr.score(X_train, y_train),'testing score',regr.score(X_test, y_test))"
   ]
  },
  {
   "cell_type": "code",
   "execution_count": 129,
   "metadata": {},
   "outputs": [
    {
     "name": "stdout",
     "output_type": "stream",
     "text": [
      "training score 0.12867505714598526 testing score 0.09278180212587828\n"
     ]
    }
   ],
   "source": [
    "from sklearn import neighbors\n",
    "knn = neighbors.KNeighborsRegressor(15)\n",
    "knn.fit(X,y)\n",
    "print('training score',knn.score(X_train, y_train),'testing score',knn.score(X_test, y_test))"
   ]
  },
  {
   "cell_type": "code",
   "execution_count": null,
   "metadata": {},
   "outputs": [],
   "source": []
  }
 ],
 "metadata": {
  "kernelspec": {
   "display_name": "Python 3",
   "language": "python",
   "name": "python3"
  },
  "language_info": {
   "codemirror_mode": {
    "name": "ipython",
    "version": 3
   },
   "file_extension": ".py",
   "mimetype": "text/x-python",
   "name": "python",
   "nbconvert_exporter": "python",
   "pygments_lexer": "ipython3",
   "version": "3.7.6"
  }
 },
 "nbformat": 4,
 "nbformat_minor": 4
}

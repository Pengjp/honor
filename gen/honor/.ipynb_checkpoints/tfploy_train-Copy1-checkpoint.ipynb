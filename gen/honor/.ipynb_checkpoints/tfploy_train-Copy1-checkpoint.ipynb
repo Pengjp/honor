{
 "cells": [
  {
   "cell_type": "code",
   "execution_count": 1,
   "metadata": {},
   "outputs": [],
   "source": [
    "from dataclasses import dataclass\n",
    "import tensorflow as tf\n",
    "import numpy as np\n",
    "\n",
    "\n",
    "@dataclass\n",
    "class TfPoly:\n",
    "    \"\"\"Piecewise polynomial, similar to scipy.interpolate.PPoly.\n",
    "        p(t) = sum_i c[i,j] (t - x[j]) ** i, x[j] <= t < x[j + 1]\n",
    "    \"\"\"\n",
    "\n",
    "    x: tf.Tensor\n",
    "    c: tf.Tensor\n",
    "\n",
    "    def __post_init__(self):\n",
    "        self.x = tf.convert_to_tensor(self.x, dtype=tf.float64)\n",
    "        self.c = tf.convert_to_tensor(self.c, dtype=tf.float64)\n",
    "        tf.debugging.assert_rank(self.x, 1)\n",
    "        tf.debugging.assert_rank(self.c, 2)\n",
    "        tf.debugging.assert_equal(tf.shape(self.x)[0], 1 + tf.shape(self.c)[1])\n",
    "\n",
    "    def __call__(self, t):\n",
    "        \"Evaluate p(t)\"\n",
    "        # does not use horners scheme but it's probably ok\n",
    "        t = tf.convert_to_tensor([t], dtype=tf.float64)\n",
    "        i = tf.searchsorted(self.x, t, side=\"right\") - 1\n",
    "        ci = tf.gather(self.c, i, axis=1)  # [D, T]\n",
    "        ti = t - tf.gather(self.x, i, axis=0)  # [T]\n",
    "        i = tf.range(ci.shape[0], dtype=tf.float64)[::-1, None]\n",
    "        return tf.reduce_sum(ci * tf.math.pow(ti[None], i), axis=0)[0]  # [T]\n",
    "        # return tf.math.polyval(\n",
    "        #     list(tf.gather(self.c, i, axis=1)), t - tf.gather(self.x, i, axis=0)\n",
    "        # )\n",
    "\n",
    "    def antiderivative(self):\n",
    "        k, n = self.c.shape\n",
    "        c0 = (1. / tf.range(1, k + 1, dtype=self.c.dtype))[::-1, None] * self.c\n",
    "        i = 1 + tf.range(c0.shape[0], dtype=c0.dtype)[::-1, None]\n",
    "        x0 = self.x[1:-1] - self.x[:-2]\n",
    "        c1 = tf.concat(\n",
    "            [\n",
    "                [0.],\n",
    "                tf.math.cumsum(\n",
    "                    tf.math.reduce_sum(c0[:, :-1] * tf.math.pow(x0[None], i), axis=0)\n",
    "                ),\n",
    "            ],\n",
    "            axis=0,\n",
    "        )\n",
    "        return TfPoly(x=self.x, c=tf.concat([c0, c1[None]], axis=0))\n",
    "\n",
    "    def inverse(self):\n",
    "        \"\"\"Return the inverse of this function. Only valid for continuous,\n",
    "        strictly monotone, piecewise linear functions; this assumption is not\n",
    "        checked.\n",
    "        \"\"\"\n",
    "#         assert self.c.shape[0] == 2, self.c.shape\n",
    "        breaks = self.c[1]  # [0, p(t1), p(t2), ...]\n",
    "        return TfPoly(\n",
    "            x=tf.concat([breaks, [np.inf]], axis=0),\n",
    "            c=tf.concat([1. / self.c[:1], [self.x[:-1]]], axis=0),\n",
    "        )\n",
    "\n",
    "\n"
   ]
  },
  {
   "cell_type": "code",
   "execution_count": 2,
   "metadata": {
    "scrolled": true
   },
   "outputs": [],
   "source": [
    "eta = TfPoly(x=np.r_[0, np.geomspace(1e-3, 1e1, 4), np.inf], c=np.reshape(np.random.rand(5),(1,-1)))\n",
    "R_real = eta.antiderivative()\n",
    "R_real_inv = R_real.inverse()"
   ]
  },
  {
   "cell_type": "code",
   "execution_count": 3,
   "metadata": {},
   "outputs": [],
   "source": [
    "import tensorflow as tf\n",
    "from tensorflow import keras\n",
    "from tensorflow.keras import optimizers, layers, Sequential\n",
    "from tensorflow.keras.layers import Input, Dense, LeakyReLU,Conv1D,Dropout,MaxPooling1D, Flatten,ReLU,BatchNormalization,GlobalAveragePooling1D\n",
    "from tensorflow.keras.regularizers import l1_l2\n",
    "import numpy as np\n",
    "import matplotlib.pyplot as plt"
   ]
  },
  {
   "cell_type": "code",
   "execution_count": 4,
   "metadata": {},
   "outputs": [],
   "source": [
    "H_learned = 24\n",
    "seq_len = 300\n",
    "learning_rate = 0.005\n",
    "batch_size = 30\n",
    "EPOCHES = 2000\n",
    "\n"
   ]
  },
  {
   "cell_type": "code",
   "execution_count": 5,
   "metadata": {},
   "outputs": [],
   "source": [
    "def runif():\n",
    "    return tf.random.uniform([1], dtype=tf.float64)[0]\n",
    "    # return tf.constant(.8, tf.float32)\n",
    "\n",
    "\n",
    "def rexp():\n",
    "    return -tf.math.log(runif())\n",
    "\n",
    "\n",
    "def exprelu(x):\n",
    "    return tf.where(x > 0, tf.math.expm1(x), tf.zeros_like(x))\n",
    "\n",
    "\n",
    "def reloid(x):\n",
    "    \"(sigma(x[1]), ..., sigma(x[-2]), relu(x[-1])\"\n",
    "    return tf.concat([tf.nn.sigmoid(x[:-1]), tf.math.exp(x[-1:])], axis=0)\n",
    "\n",
    "\n",
    "# @tf.function\n",
    "def reloid_derivative(x):\n",
    "    return tf.concat(\n",
    "        [\n",
    "            tf.nn.sigmoid(x[:-1])\n",
    "            * (1 - tf.nn.sigmoid(x[:-1])),  # derivative of sigmoid\n",
    "            tf.math.exp(x[-1:]),\n",
    "        ],\n",
    "        axis=0,\n",
    "    )\n",
    "\n",
    "\n",
    "# @tf.function\n",
    "def S(x, w, v, b):\n",
    "    \"\"\"\n",
    "    x: scalar\n",
    "    w, v, b: (3, H)\n",
    "    \"\"\"\n",
    "    x = tf.convert_to_tensor(x, dtype=\"float64\")\n",
    "    # tf.debugging.assert_positive(x, message=\"R: x>0\")\n",
    "    exp_w_v = tf.math.exp([w, v])\n",
    "    ew = exp_w_v[0]\n",
    "    ev = exp_w_v[1]\n",
    "    # b = tf.math.sigmoid(b) # try this  # JT - bug. was sigb\n",
    "    ew = tf.concat([ew[:-1], tf.ones_like(ew[-1:]),], axis=0,)\n",
    "    x = tf.reshape(x, (1, 1))\n",
    "    return tf.transpose(ev) @ reloid(ew @ x + b)\n",
    "\n",
    "\n",
    "# @tf.function\n",
    "def R(x, w, v, b):\n",
    "    return S(tf.math.log(x), w, v, b)\n",
    "\n",
    "\n",
    "# @tf.function\n",
    "def Rinv(y, w, v, b):\n",
    "    y = tf.convert_to_tensor(y, dtype=\"float64\")\n",
    "    # y = tf.reshape(y, (-1,))[0]\n",
    "    # as x -> oo, R is asymyptotic to exp(v[-1] + w[-1]) x\n",
    "    # fixme: calculate this exactly.\n",
    "    x_left = tf.convert_to_tensor([[0.0]], tf.float64)\n",
    "    x_right = tf.convert_to_tensor([[1e8]], tf.float64)\n",
    "    # tf.print((x_left, x_right))\n",
    "    # tf.print(\"y\", y)\n",
    "    # tf.print('y',y)\n",
    "    # tf.debugging.assert_greater(R(x_right, w, v, b), y, message=\"R(x_right)>y inv\")\n",
    "\n",
    "    def cond(xl, xr):\n",
    "        # tf.print(xl, xr)\n",
    "        xi = (xl + xr) / 2.0\n",
    "        yi = R(xi, w, v, b)[0, 0]\n",
    "        return abs(y - yi) > 1e-6\n",
    "\n",
    "    def body(xl, xr):\n",
    "        xi = (xl + xr) / 2.0\n",
    "        yi = R(xi, w, v, b)[0, 0]\n",
    "        left = tf.cast(yi < y, dtype=\"float64\")\n",
    "        xl = left * xi + (1.0 - left) * xl\n",
    "        xr = (1.0 - left) * xi + left * xr\n",
    "        return (xl, xr)\n",
    "        # print(y, x_i, y_i)\n",
    "\n",
    "    xl, xr = tf.while_loop(cond, body, (x_left, x_right))\n",
    "    return (xl + xr) / 2.0\n",
    "\n",
    "\n",
    "@tf.custom_gradient\n",
    "def custom_Rinv(y, w, v, b):\n",
    "    y = tf.convert_to_tensor(y, dtype=\"float64\")\n",
    "    x = Rinv(y, w, v, b)\n",
    "    with tf.GradientTape() as g:\n",
    "        g.watch([x, w, v, b])\n",
    "        y = R(x, w, v, b)\n",
    "    dR_dw, dR_dv, dR_db, dR_dx = g.gradient(y, [w, v, b, x])\n",
    "\n",
    "    def grad(dx):\n",
    "        return dx / dR_dx, -dx * dR_dw / dR_dx, -dx * dR_dv / dR_dx, -dx * dR_db / dR_dx\n",
    "\n",
    "    return x, grad"
   ]
  },
  {
   "cell_type": "code",
   "execution_count": 6,
   "metadata": {},
   "outputs": [],
   "source": [
    "mu = 1e-4\n",
    "rho = 1e-5\n",
    "\n",
    "\n",
    "def _gen_gaps(k: int, _R, _Rinv,) -> tf.Tensor:\n",
    "    \"\"\"Return k gaps sampled from genetic distribution with rate function eta.\"\"\"\n",
    "    z = tf.convert_to_tensor([rexp()])\n",
    "    x = _Rinv(z)  # initialize x by sampling from prior\n",
    "    x = tf.reshape(x, [1,1])\n",
    "    tf.debugging.assert_positive(x, message=\"gen_gaps first x\")\n",
    "\n",
    "    gap = tf.constant([[0.0]], dtype=tf.float64)\n",
    "    j = 0\n",
    "    ta = tf.TensorArray(tf.float64, size=k + 1)\n",
    "\n",
    "    while tf.less(j, k + 1):\n",
    "        # x' satisfies R(x') - R(u*x) = Z => x' = Rinv(Z + R(u*x))\n",
    "        u = runif()\n",
    "        z = rexp()\n",
    "        u_x = tf.convert_to_tensor(u * x)\n",
    "        r_u_x = _R(u_x[0])  # compute R(u_x)\n",
    "        x = _Rinv(z + r_u_x)  # segment height\n",
    "        x = tf.reshape(x, [1,1])\n",
    "        # tf.print(x)\n",
    "        # tf.print(z+r_u_x,\"\\n\")\n",
    "        with tf.control_dependencies(\n",
    "            [\n",
    "                tf.debugging.assert_all_finite(x, \"second x\"),\n",
    "                tf.debugging.assert_positive(x, message=\"gen_gaps second x\"),\n",
    "            ]\n",
    "        ):\n",
    "            next_event = rexp() / (x * (mu + rho))\n",
    "            tf.debugging.assert_positive(next_event, message=\"gen_gaps first gap\")\n",
    "            gap += next_event  # length to next event\n",
    "        while runif() < (mu / (mu + rho)) and tf.less(j, k + 1):\n",
    "            ta = ta.write(j, gap)\n",
    "            gap *= 0.0\n",
    "            j += 1\n",
    "            next_event = rexp() / (x * (mu + rho))\n",
    "            tf.debugging.assert_positive(next_event, message=\"gen_gaps second gap\")\n",
    "            gap += next_event  # length to next event\n",
    "\n",
    "    gaps = ta.stack()[1:]  # first obs suffers from inspection paradox?\n",
    "    with tf.control_dependencies(\n",
    "        [\n",
    "            tf.debugging.assert_positive(\n",
    "                gaps, message=\"gaps have non-positive entry\", summarize=100\n",
    "            )\n",
    "        ]\n",
    "    ):\n",
    "        return gaps"
   ]
  },
  {
   "cell_type": "code",
   "execution_count": 7,
   "metadata": {},
   "outputs": [],
   "source": [
    "# @tf.function\n",
    "def gen_gaps(\n",
    "    w, v, b, k,\n",
    "):\n",
    "    R_ = lambda x: R(x, w, v, b)\n",
    "    Rinv_ = lambda z: custom_Rinv(z, w, v, b)\n",
    "    return _gen_gaps(k, R_, Rinv_)\n",
    "\n",
    "\n",
    "# @tf.function\n",
    "def gen_gaps_real(k: int,):\n",
    "    return _gen_gaps(k, R_real, R_real_inv,)"
   ]
  },
  {
   "cell_type": "code",
   "execution_count": 8,
   "metadata": {},
   "outputs": [],
   "source": [
    "class CustomGenGaps(keras.layers.Layer):\n",
    "    \"\"\"Take one parameter H as input\n",
    "    Then construct one hidden layer with H units\"\"\"\n",
    "\n",
    "    def __init__(self, H, name=\"gen_gaps_layer\"):\n",
    "        super(CustomGenGaps, self,).__init__(name=name)\n",
    "        init = tf.random_normal_initializer(stddev=1)\n",
    "        self.w = self.add_weight(\n",
    "            shape=(H, 1),\n",
    "            initializer=init,\n",
    "            dtype=\"float64\",\n",
    "            trainable=True,\n",
    "            name=\"w\",\n",
    "        )\n",
    "        self.v = self.add_weight(\n",
    "            shape=(H, 1),\n",
    "            initializer=init,\n",
    "            dtype=\"float64\",\n",
    "            trainable=True,\n",
    "            name=\"v\",\n",
    "        )\n",
    "        self.b = self.add_weight(\n",
    "            shape=(H, 1),\n",
    "            initializer=init,\n",
    "            dtype=\"float64\",\n",
    "            trainable=True,\n",
    "            name=\"b\",\n",
    "        )\n",
    "\n",
    "    def call(self, length):\n",
    "        return tf.reshape(gen_gaps(self.w, self.v, self.b, length), [1, length])\n",
    "\n",
    "\n",
    "class Generator(keras.Model):\n",
    "    \"\"\" wrap the GenGaps layer into Keras Model \"\"\"\n",
    "\n",
    "    def __init__(self, H):\n",
    "        super(Generator, self).__init__()\n",
    "        self.GenLayer = CustomGenGaps(H)\n",
    "\n",
    "    def call(self, inputs, training=True):\n",
    "        return self.GenLayer(inputs)\n",
    "    \n",
    "generator = Generator(H_learned)"
   ]
  },
  {
   "cell_type": "code",
   "execution_count": 9,
   "metadata": {},
   "outputs": [],
   "source": [
    "def SSE(x, generator):\n",
    "    \"\"\" Calculate difference between real and learned function \"\"\"\n",
    "    r_hat = R_learned(x, generator)[0]\n",
    "    r = R_real(x)\n",
    "    x = tf.cast(x, \"float64\")\n",
    "    return tf.math.sqrt(tf.math.square(r_hat - r)) * tf.math.exp(\n",
    "        -x\n",
    "    )  # make integral convergent"
   ]
  },
  {
   "cell_type": "code",
   "execution_count": 10,
   "metadata": {},
   "outputs": [],
   "source": [
    "# Since activation of last layer of discriminator is None, I set from_logits to be True\n",
    "cross_entropy = tf.keras.losses.BinaryCrossentropy(from_logits=True)\n",
    "\n",
    "\n",
    "def generator_objective(dx_of_gx):\n",
    "    # Labels are true here because generator thinks he produces real images.\n",
    "    return cross_entropy(tf.ones_like(dx_of_gx), dx_of_gx)"
   ]
  },
  {
   "cell_type": "code",
   "execution_count": 11,
   "metadata": {},
   "outputs": [],
   "source": [
    "\n",
    "def integral(y, x):\n",
    "    \"\"\"Trapezoidal Method\"\"\"\n",
    "    y = tf.cast(y, \"float64\")\n",
    "    x = tf.cast(x, \"float64\")\n",
    "    dx = (x[-1] - x[0]) / (int(x.shape[0]) - 1)\n",
    "    return ((y[0] + y[-1]) / 2 + tf.reduce_sum(y[1:-1])) * dx"
   ]
  },
  {
   "cell_type": "code",
   "execution_count": 12,
   "metadata": {},
   "outputs": [
    {
     "name": "stdout",
     "output_type": "stream",
     "text": [
      "Model: \"discriminator\"\n",
      "_________________________________________________________________\n",
      "Layer (type)                 Output Shape              Param #   \n",
      "=================================================================\n",
      "conv1d (Conv1D)              (None, 300, 32)           192       \n",
      "_________________________________________________________________\n",
      "batch_normalization (BatchNo (None, 300, 32)           128       \n",
      "_________________________________________________________________\n",
      "re_lu (ReLU)                 (None, 300, 32)           0         \n",
      "_________________________________________________________________\n",
      "dropout (Dropout)            (None, 300, 32)           0         \n",
      "_________________________________________________________________\n",
      "conv1d_1 (Conv1D)            (None, 300, 64)           10304     \n",
      "_________________________________________________________________\n",
      "batch_normalization_1 (Batch (None, 300, 64)           256       \n",
      "_________________________________________________________________\n",
      "re_lu_1 (ReLU)               (None, 300, 64)           0         \n",
      "_________________________________________________________________\n",
      "dropout_1 (Dropout)          (None, 300, 64)           0         \n",
      "_________________________________________________________________\n",
      "global_average_pooling1d (Gl (None, 64)                0         \n",
      "_________________________________________________________________\n",
      "dense (Dense)                (None, 1)                 65        \n",
      "=================================================================\n",
      "Total params: 10,945\n",
      "Trainable params: 10,753\n",
      "Non-trainable params: 192\n",
      "_________________________________________________________________\n"
     ]
    }
   ],
   "source": [
    "discriminator = Sequential(\n",
    "    [\n",
    "     Input(shape=(seq_len,1)),\n",
    "     Conv1D(filters=32, kernel_size=5, padding=\"same\"),\n",
    "     BatchNormalization(),\n",
    "     ReLU(),\n",
    "     Dropout(0.25),\n",
    "     Conv1D(filters=64, kernel_size=5, padding=\"same\"),\n",
    "     BatchNormalization(),\n",
    "     ReLU(),\n",
    "     Dropout(0.25),\n",
    "     GlobalAveragePooling1D(),\n",
    "     Dense(1)\n",
    "    ],\n",
    "    name=\"discriminator\",\n",
    ")\n",
    "discriminator.summary()"
   ]
  },
  {
   "cell_type": "code",
   "execution_count": 13,
   "metadata": {},
   "outputs": [],
   "source": [
    "def discriminator_objective(d_x, g_z):\n",
    "    \"\"\"\n",
    "    d_x = real output\n",
    "    g_z = fake output\n",
    "    \"\"\"\n",
    "    real_loss = cross_entropy(\n",
    "        tf.ones_like(d_x), d_x\n",
    "    )  # If we feed the discriminator with real images, we assume they all are the right pictures --> Because of that label == 1\n",
    "    fake_loss = cross_entropy(\n",
    "        tf.zeros_like(g_z), g_z\n",
    "    )  # Each noise we feed in are fakes image --> Because of that labels are 0\n",
    "    total_loss = real_loss + fake_loss\n",
    "\n",
    "    return total_loss"
   ]
  },
  {
   "cell_type": "code",
   "execution_count": 14,
   "metadata": {},
   "outputs": [],
   "source": [
    "generator_optimizer = optimizers.Adam(learning_rate)\n",
    "discriminator_optimizer = optimizers.Adam(learning_rate)"
   ]
  },
  {
   "cell_type": "code",
   "execution_count": 15,
   "metadata": {},
   "outputs": [],
   "source": [
    "m = tf.keras.metrics.BinaryAccuracy()\n",
    "\n",
    "# @tf.function\n",
    "def training_step(generator, discriminator):\n",
    "    with tf.GradientTape() as gen_tape, tf.GradientTape() as disc_tape:\n",
    "        fake_seq = tf.squeeze(tf.stack([generator(seq_len) for _ in range(batch_size)]))\n",
    "        real_seq = tf.squeeze(tf.stack([tf.reshape(gen_gaps_real(seq_len), (1, seq_len))\\\n",
    "                                      for _ in range(batch_size)]))\n",
    "        d_x_true = discriminator(tf.expand_dims(tf.math.log(real_seq),-1))\n",
    "        d_x_fake = discriminator(tf.expand_dims(tf.math.log(fake_seq),-1))\n",
    "        \n",
    "        discriminator_loss = discriminator_objective(d_x_true, d_x_fake)\n",
    "        # Adjusting Gradient of Discriminator\n",
    "        gradients_of_discriminator = disc_tape.gradient(\n",
    "            discriminator_loss, discriminator.trainable_variables\n",
    "        )\n",
    "        discriminator_optimizer.apply_gradients(\n",
    "            zip(gradients_of_discriminator, discriminator.trainable_variables)\n",
    "        )  # Takes a list of gradient and variables pairs\n",
    "\n",
    "        generator_loss = generator_objective(d_x_fake)\n",
    "        # Adjusting Gradient of Generator\n",
    "        gradients_of_generator = gen_tape.gradient(\n",
    "            generator_loss, generator.trainable_variables\n",
    "        )\n",
    "        for i in range(3):\n",
    "            generator_optimizer.apply_gradients(\n",
    "                zip([gradients_of_generator[i]], [generator.trainable_variables[i]])\n",
    "            )\n",
    "    m.reset_states()\n",
    "    m.update_state(tf.ones_like(d_x_true),tf.math.sigmoid(d_x_true))\n",
    "    real_acc = m.result()\n",
    "\n",
    "    m.reset_states()\n",
    "    m.update_state(tf.zeros_like(d_x_fake),tf.math.sigmoid(d_x_fake))\n",
    "    fake_acc = m.result()\n",
    "\n",
    "    return generator_loss, discriminator_loss, real_acc, fake_acc"
   ]
  },
  {
   "cell_type": "code",
   "execution_count": 16,
   "metadata": {},
   "outputs": [],
   "source": [
    "def training(epoches):\n",
    "#     warnings.filterwarnings(\"ignore\")\n",
    "    for epoch in range(epoches + 1):\n",
    "        mse.append(integral(np.array([SSE(i, generator) for i in x_li]), x_li))\n",
    "        gen_loss,disc_loss,real,fake = training_step(generator, discriminator)\n",
    "        d_loss.append(disc_loss)\n",
    "        g_loss.append(gen_loss)\n",
    "        real_acc.append(real)\n",
    "        fake_acc.append(fake)\n",
    "        if (epoch % 20) == 0:\n",
    "            print(\n",
    "                \"epoch=%d generator_loss=%f discriminator_loss=%f real_acc=%f fake_acc=%f\"\n",
    "                % (epoch, gen_loss, disc_loss, real, fake)\n",
    "            )\n",
    "            performance_check(generator)"
   ]
  },
  {
   "cell_type": "code",
   "execution_count": 17,
   "metadata": {
    "scrolled": false
   },
   "outputs": [
    {
     "data": {
      "text/plain": [
       "(<tf.Tensor: shape=(), dtype=float32, numpy=0.37843782>,\n",
       " <tf.Tensor: shape=(), dtype=float32, numpy=1.4532688>,\n",
       " <tf.Tensor: shape=(), dtype=float32, numpy=1.0>,\n",
       " <tf.Tensor: shape=(), dtype=float32, numpy=0.0>)"
      ]
     },
     "execution_count": 17,
     "metadata": {},
     "output_type": "execute_result"
    }
   ],
   "source": [
    "training_step(generator, discriminator)"
   ]
  },
  {
   "cell_type": "code",
   "execution_count": 18,
   "metadata": {},
   "outputs": [],
   "source": [
    "x_li = tf.convert_to_tensor(np.geomspace(1e-2, 10, num=200), dtype=\"float64\")\n",
    "\n",
    "grad_real = []\n",
    "for x in x_li:\n",
    "    with tf.GradientTape() as g:\n",
    "        g.watch(x)\n",
    "        y = R_real(x)\n",
    "    grad_real.append(g.gradient(y, x))\n",
    "    \n",
    "y_real = [R_real(i) for i in x_li]\n",
    "\n",
    "def R_learned(x, generator):\n",
    "    return R(x, generator.weights[0], generator.weights[1], generator.weights[2])\n",
    "\n",
    "def performance_check(generator):\n",
    "    plt.figure(figsize=(13, 4))\n",
    "    plt.subplot(131)\n",
    "    # Real Generator Plot\n",
    "    plt.plot(tf.reshape(x_li, [-1]), tf.reshape(y_real, [-1]), label=\"target\")\n",
    "    # Plot fake R\n",
    "    y = [R_learned(i, generator) for i in x_li]\n",
    "    plt.plot(tf.reshape(x_li, [-1]), tf.reshape(y, [-1]), label=\"learned\")\n",
    "    b = generator.weights[2]\n",
    "    plt.scatter(tf.transpose(b), np.ones_like(tf.transpose(b)))\n",
    "    plt.yscale(\"log\")\n",
    "    plt.xscale(\"log\")\n",
    "    error = integral([SSE(i, generator) for i in x_li], x_li)\n",
    "    plt.title(f\"log-log weighted L2 norm: {error[0]}\")\n",
    "    plt.legend()\n",
    "\n",
    "    plt.subplot(132)\n",
    "    plt.plot(tf.reshape(x_li, [-1]), grad_real, label=\"target\")\n",
    "\n",
    "    grad = []\n",
    "    for x in x_li:\n",
    "        with tf.GradientTape() as g:\n",
    "            g.watch(x)\n",
    "            y = R_learned(x, generator)\n",
    "        grad.append(g.gradient(y, x))\n",
    "\n",
    "    plt.plot(tf.reshape(x_li, [-1]), grad, label=\"learned\")\n",
    "    plt.title(\"log-log derivative comparsion\")\n",
    "    plt.yscale(\"log\")\n",
    "    plt.xscale(\"log\")\n",
    "    plt.legend()\n",
    "    plt.subplot(133)\n",
    "    w = generator.weights[0]\n",
    "    v = generator.weights[1]\n",
    "    b = generator.weights[2]\n",
    "    plt.hist(b.numpy().reshape(-1))\n",
    "    plt.show()"
   ]
  },
  {
   "cell_type": "code",
   "execution_count": 19,
   "metadata": {},
   "outputs": [
    {
     "data": {
      "image/png": "[encoded data removed]",
      "text/plain": [
       "<Figure size 936x288 with 3 Axes>"
      ]
     },
     "metadata": {
      "needs_background": "light"
     },
     "output_type": "display_data"
    }
   ],
   "source": [
    "performance_check(generator)"
   ]
  },
  {
   "cell_type": "code",
   "execution_count": null,
   "metadata": {},
   "outputs": [
    {
     "name": "stdout",
     "output_type": "stream",
     "text": [
      "epoch=0 generator_loss=4.620440 discriminator_loss=0.220201 real_acc=0.900000 fake_acc=1.000000\n"
     ]
    },
    {
     "data": {
      "image/png": "[encoded data removed]",
      "text/plain": [
       "<Figure size 936x288 with 3 Axes>"
      ]
     },
     "metadata": {
      "needs_background": "light"
     },
     "output_type": "display_data"
    },
    {
     "name": "stdout",
     "output_type": "stream",
     "text": [
      "epoch=20 generator_loss=3.496224 discriminator_loss=0.097140 real_acc=0.966667 fake_acc=1.000000\n"
     ]
    },
    {
     "data": {
      "image/png": "[encoded data removed]",
      "text/plain": [
       "<Figure size 936x288 with 3 Axes>"
      ]
     },
     "metadata": {
      "needs_background": "light"
     },
     "output_type": "display_data"
    },
    {
     "name": "stdout",
     "output_type": "stream",
     "text": [
      "epoch=40 generator_loss=4.317349 discriminator_loss=0.090719 real_acc=0.966667 fake_acc=1.000000\n"
     ]
    },
    {
     "data": {
      "image/png": "[encoded data removed]",
      "text/plain": [
       "<Figure size 936x288 with 3 Axes>"
      ]
     },
     "metadata": {
      "needs_background": "light"
     },
     "output_type": "display_data"
    }
   ],
   "source": [
    "%%time\n",
    "mse = []\n",
    "diff = []\n",
    "d_loss = []\n",
    "g_loss = []\n",
    "real_acc = []\n",
    "fake_acc = []\n",
    "training(EPOCHES)"
   ]
  },
  {
   "cell_type": "code",
   "execution_count": null,
   "metadata": {},
   "outputs": [],
   "source": [
    "w, v, b = generator.trainable_variables\n",
    "x = tf.math.log(gen_gaps(w, v, b, 10000))\n",
    "y = tf.math.log(gen_gaps_real(10000))\n",
    "plt.hist(x.numpy().reshape(-1),label = 'fake')\n",
    "plt.hist(y.numpy().reshape(-1), alpha=0.4,label='real')\n",
    "plt.legend()"
   ]
  },
  {
   "cell_type": "code",
   "execution_count": null,
   "metadata": {},
   "outputs": [],
   "source": [
    "plt.figure(figsize = (21,8))\n",
    "plt.plot([i for i in range(len(g_loss))],np.array(g_loss),label='g_loss')\n",
    "plt.plot([i for i in range(len(g_loss))],np.array(d_loss),label='d_loss')\n",
    "plt.legend()\n",
    "plt.show()"
   ]
  },
  {
   "cell_type": "code",
   "execution_count": null,
   "metadata": {},
   "outputs": [],
   "source": [
    "B = 100\n",
    "W = np.hamming(B)\n",
    "W /= W.sum()\n",
    "plt.figure(figsize = (21,8))\n",
    "plt.plot([i for i in range(len(real_acc))],np.convolve(real_acc, W, mode='same'),label='real')\n",
    "plt.plot([i for i in range(len(real_acc))],np.convolve(fake_acc, W, mode='same'),label='fake')\n",
    "plt.legend()\n",
    "plt.show()"
   ]
  }
 ],
 "metadata": {
  "kernelspec": {
   "display_name": "Python 3",
   "language": "python",
   "name": "python3"
  },
  "language_info": {
   "codemirror_mode": {
    "name": "ipython",
    "version": 3
   },
   "file_extension": ".py",
   "mimetype": "text/x-python",
   "name": "python",
   "nbconvert_exporter": "python",
   "pygments_lexer": "ipython3",
   "version": "3.7.6"
  }
 },
 "nbformat": 4,
 "nbformat_minor": 4
}
